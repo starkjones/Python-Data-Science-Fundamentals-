{
  "nbformat": 4,
  "nbformat_minor": 0,
  "metadata": {
    "colab": {
      "provenance": [],
      "authorship_tag": "ABX9TyOlHbYqNyWBlMd8kQNiV/eh",
      "include_colab_link": true
    },
    "kernelspec": {
      "name": "python3",
      "display_name": "Python 3"
    },
    "language_info": {
      "name": "python"
    }
  },
  "cells": [
    {
      "cell_type": "markdown",
      "metadata": {
        "id": "view-in-github",
        "colab_type": "text"
      },
      "source": [
        "<a href=\"https://colab.research.google.com/github/starkjones/Python-Data-Science-Fundamentals-/blob/main/B_Diabetes.ipynb\" target=\"_parent\"><img src=\"https://colab.research.google.com/assets/colab-badge.svg\" alt=\"Open In Colab\"/></a>"
      ]
    },
    {
      "cell_type": "markdown",
      "source": [
        "## **DIABETES ANALYSIS**\n",
        "\n",
        "Jonathan Jones\n",
        "\n",
        "22.05.11"
      ],
      "metadata": {
        "id": "Q9p3Kic1k3lC"
      }
    },
    {
      "cell_type": "markdown",
      "source": [
        "**EXAM RUBRIC:**\n",
        "\n",
        "(.5) Inconsistencies in categories checked and handled if necessary\n",
        "(.25) Outliers checked and handled if necessary\n",
        "(.25) Data types checked and handled if necessary\n",
        "(.25) Duplicate rows checked and handled if necessary\n",
        "General:\n",
        "(.5) Includes exploratory visualization - #1 \n",
        "(.25) Interprets visualization #1\n",
        "(.5) Includes exploratory visualization - #2\n",
        "(.25) Interprets visualization #2\n",
        "(3) Splits data into training and testing set\n",
        "(2) Missing values are identified & imputed\n",
        "(.25) Justifies strategy for handling missing values\n",
        "(.5) Avoids data leakage\n",
        "(1) Categorical variables are converted to numeric for modeling\n",
        "(.25) Justifies encoding choices (ordinal vs one-hot encoding)\n",
        "(.25) Scales data if using model that requires scaling\n",
        "(2) Fits valid algorithm #1\n",
        "(.25) Tunes hyperparameters of algorithm #1\n",
        "(.5) Fits valid algorithm #2\n",
        "(.25) Tunes hyperparameters of algorithm #2\n",
        "(.5) Uses pipeline(s) for preprocessing and modeling\n",
        "(2) Evaluates model using valid metric\n",
        "(.25) Justifies final model choice\n",
        "Other:\n",
        "(.5) File Reqts: Python code for data cleaning\n",
        "(.5) File Reqts: Python code for EDA\n",
        "(.5) File Reqts: Python code for modeling\n",
        "(.25) Code: Organization, structure, indentation, comments\n",
        "(.25) Code: Unnecessary code or methods\n",
        "(.25) Code: Unused modeling or evaluation metric imports\n",
        "(.25) Code: Errors left in code output\n",
        "(.25) Modeling: inappropriate models or metrics imported/used\n",
        "(.25) Code: Unnecessary files"
      ],
      "metadata": {
        "id": "1TU-86ufx77X"
      }
    },
    {
      "cell_type": "code",
      "execution_count": 1,
      "metadata": {
        "colab": {
          "base_uri": "https://localhost:8080/"
        },
        "id": "zaBu-CjfkI7o",
        "outputId": "ccdb220f-76c6-44a1-efca-3bf5b0b90416"
      },
      "outputs": [
        {
          "output_type": "stream",
          "name": "stdout",
          "text": [
            "Mounted at /content/drive\n"
          ]
        }
      ],
      "source": [
        "import pandas as pd\n",
        "import numpy as np\n",
        "\n",
        "from google.colab import drive\n",
        "drive.mount('/content/drive')"
      ]
    },
    {
      "cell_type": "code",
      "source": [
        "data = '/content/drive/MyDrive/Colab Notebooks/Week 7/Belt2_B_diabetes_v2_final.csv'\n",
        "df = pd.read_csv(data)\n",
        "df.head(20)"
      ],
      "metadata": {
        "colab": {
          "base_uri": "https://localhost:8080/",
          "height": 677
        },
        "id": "KQDA5zU_lRG5",
        "outputId": "9171b537-1054-484a-ff17-4dfd3b2422cc"
      },
      "execution_count": 2,
      "outputs": [
        {
          "output_type": "execute_result",
          "data": {
            "text/plain": [
              "    Pregnancies  Glucose  BloodPressure  SkinThickness  Insulin  \\\n",
              "0             4    189.0          110.0           31.0      NaN   \n",
              "1             2    157.0           74.0           35.0    440.0   \n",
              "2             6     98.0           58.0           33.0    190.0   \n",
              "3             6    111.0           64.0           39.0      NaN   \n",
              "4             3    106.0           72.0            NaN      NaN   \n",
              "5             7    125.0           86.0            NaN      NaN   \n",
              "6             1    106.0           76.0            NaN      NaN   \n",
              "7             6    105.0           80.0           28.0      NaN   \n",
              "8             7    159.0           64.0            NaN      NaN   \n",
              "9             7     81.0           78.0           40.0     48.0   \n",
              "10            6    108.0           44.0           20.0    130.0   \n",
              "11            4     95.0           70.0           32.0      NaN   \n",
              "12            3    125.0           58.0            NaN      NaN   \n",
              "13            1    164.0           82.0           43.0     67.0   \n",
              "14            0     94.0           70.0           27.0    115.0   \n",
              "15            0    106.0           70.0           37.0    148.0   \n",
              "16            2    142.0           82.0           18.0     64.0   \n",
              "17           12     88.0           74.0           40.0     54.0   \n",
              "18            4    128.0           70.0            NaN      NaN   \n",
              "19            0    105.0           90.0            NaN      NaN   \n",
              "\n",
              "   DiabetesPedigreeFunction     WeightGroup AgeGroup Gender  Outcome  \n",
              "0                      0_68      overweight  18 - 44      F        0  \n",
              "1                     0.134         obese_2  18 - 44      F        0  \n",
              "2                      0.43         obese_1  18 - 44      F        0  \n",
              "3                      0.26         obese_1  18 - 44      F        0  \n",
              "4                     0_207      overweight  18 - 44      F        0  \n",
              "5                     0.304         obese_2  45 - 64      F        0  \n",
              "6       0.19699999999999998         obese_2  18 - 44      F        0  \n",
              "7                     0.878         obese_1  18 - 44      F        0  \n",
              "8                     0.294      overweight  18 - 44      F        0  \n",
              "9                     0_261        obsese_3  18 - 44      F        0  \n",
              "10                    0.813  healthy weight  18 - 44      F        0  \n",
              "11                    0.612         obese_1  18 - 44      F        0  \n",
              "12                    0.151         obese_1  18 - 44      F        0  \n",
              "13                    0.341         obese_1  45 - 64      F        0  \n",
              "14      0_34700000000000003        obsese_3  18 - 44      m        0  \n",
              "15                    0_605         obese_2  18 - 44      F        0  \n",
              "16       0.7609999999999999  healthy weight  18 - 44      F        0  \n",
              "17      0.37799999999999995         obese_2  45 - 64      F        0  \n",
              "18                    0.303         obese_1  18 - 44      F        0  \n",
              "19      0.19699999999999998      overweight  45 - 64      m        0  "
            ],
            "text/html": [
              "\n",
              "  <div id=\"df-8e59467f-b74e-46af-86e0-5cff2b9d13b5\">\n",
              "    <div class=\"colab-df-container\">\n",
              "      <div>\n",
              "<style scoped>\n",
              "    .dataframe tbody tr th:only-of-type {\n",
              "        vertical-align: middle;\n",
              "    }\n",
              "\n",
              "    .dataframe tbody tr th {\n",
              "        vertical-align: top;\n",
              "    }\n",
              "\n",
              "    .dataframe thead th {\n",
              "        text-align: right;\n",
              "    }\n",
              "</style>\n",
              "<table border=\"1\" class=\"dataframe\">\n",
              "  <thead>\n",
              "    <tr style=\"text-align: right;\">\n",
              "      <th></th>\n",
              "      <th>Pregnancies</th>\n",
              "      <th>Glucose</th>\n",
              "      <th>BloodPressure</th>\n",
              "      <th>SkinThickness</th>\n",
              "      <th>Insulin</th>\n",
              "      <th>DiabetesPedigreeFunction</th>\n",
              "      <th>WeightGroup</th>\n",
              "      <th>AgeGroup</th>\n",
              "      <th>Gender</th>\n",
              "      <th>Outcome</th>\n",
              "    </tr>\n",
              "  </thead>\n",
              "  <tbody>\n",
              "    <tr>\n",
              "      <th>0</th>\n",
              "      <td>4</td>\n",
              "      <td>189.0</td>\n",
              "      <td>110.0</td>\n",
              "      <td>31.0</td>\n",
              "      <td>NaN</td>\n",
              "      <td>0_68</td>\n",
              "      <td>overweight</td>\n",
              "      <td>18 - 44</td>\n",
              "      <td>F</td>\n",
              "      <td>0</td>\n",
              "    </tr>\n",
              "    <tr>\n",
              "      <th>1</th>\n",
              "      <td>2</td>\n",
              "      <td>157.0</td>\n",
              "      <td>74.0</td>\n",
              "      <td>35.0</td>\n",
              "      <td>440.0</td>\n",
              "      <td>0.134</td>\n",
              "      <td>obese_2</td>\n",
              "      <td>18 - 44</td>\n",
              "      <td>F</td>\n",
              "      <td>0</td>\n",
              "    </tr>\n",
              "    <tr>\n",
              "      <th>2</th>\n",
              "      <td>6</td>\n",
              "      <td>98.0</td>\n",
              "      <td>58.0</td>\n",
              "      <td>33.0</td>\n",
              "      <td>190.0</td>\n",
              "      <td>0.43</td>\n",
              "      <td>obese_1</td>\n",
              "      <td>18 - 44</td>\n",
              "      <td>F</td>\n",
              "      <td>0</td>\n",
              "    </tr>\n",
              "    <tr>\n",
              "      <th>3</th>\n",
              "      <td>6</td>\n",
              "      <td>111.0</td>\n",
              "      <td>64.0</td>\n",
              "      <td>39.0</td>\n",
              "      <td>NaN</td>\n",
              "      <td>0.26</td>\n",
              "      <td>obese_1</td>\n",
              "      <td>18 - 44</td>\n",
              "      <td>F</td>\n",
              "      <td>0</td>\n",
              "    </tr>\n",
              "    <tr>\n",
              "      <th>4</th>\n",
              "      <td>3</td>\n",
              "      <td>106.0</td>\n",
              "      <td>72.0</td>\n",
              "      <td>NaN</td>\n",
              "      <td>NaN</td>\n",
              "      <td>0_207</td>\n",
              "      <td>overweight</td>\n",
              "      <td>18 - 44</td>\n",
              "      <td>F</td>\n",
              "      <td>0</td>\n",
              "    </tr>\n",
              "    <tr>\n",
              "      <th>5</th>\n",
              "      <td>7</td>\n",
              "      <td>125.0</td>\n",
              "      <td>86.0</td>\n",
              "      <td>NaN</td>\n",
              "      <td>NaN</td>\n",
              "      <td>0.304</td>\n",
              "      <td>obese_2</td>\n",
              "      <td>45 - 64</td>\n",
              "      <td>F</td>\n",
              "      <td>0</td>\n",
              "    </tr>\n",
              "    <tr>\n",
              "      <th>6</th>\n",
              "      <td>1</td>\n",
              "      <td>106.0</td>\n",
              "      <td>76.0</td>\n",
              "      <td>NaN</td>\n",
              "      <td>NaN</td>\n",
              "      <td>0.19699999999999998</td>\n",
              "      <td>obese_2</td>\n",
              "      <td>18 - 44</td>\n",
              "      <td>F</td>\n",
              "      <td>0</td>\n",
              "    </tr>\n",
              "    <tr>\n",
              "      <th>7</th>\n",
              "      <td>6</td>\n",
              "      <td>105.0</td>\n",
              "      <td>80.0</td>\n",
              "      <td>28.0</td>\n",
              "      <td>NaN</td>\n",
              "      <td>0.878</td>\n",
              "      <td>obese_1</td>\n",
              "      <td>18 - 44</td>\n",
              "      <td>F</td>\n",
              "      <td>0</td>\n",
              "    </tr>\n",
              "    <tr>\n",
              "      <th>8</th>\n",
              "      <td>7</td>\n",
              "      <td>159.0</td>\n",
              "      <td>64.0</td>\n",
              "      <td>NaN</td>\n",
              "      <td>NaN</td>\n",
              "      <td>0.294</td>\n",
              "      <td>overweight</td>\n",
              "      <td>18 - 44</td>\n",
              "      <td>F</td>\n",
              "      <td>0</td>\n",
              "    </tr>\n",
              "    <tr>\n",
              "      <th>9</th>\n",
              "      <td>7</td>\n",
              "      <td>81.0</td>\n",
              "      <td>78.0</td>\n",
              "      <td>40.0</td>\n",
              "      <td>48.0</td>\n",
              "      <td>0_261</td>\n",
              "      <td>obsese_3</td>\n",
              "      <td>18 - 44</td>\n",
              "      <td>F</td>\n",
              "      <td>0</td>\n",
              "    </tr>\n",
              "    <tr>\n",
              "      <th>10</th>\n",
              "      <td>6</td>\n",
              "      <td>108.0</td>\n",
              "      <td>44.0</td>\n",
              "      <td>20.0</td>\n",
              "      <td>130.0</td>\n",
              "      <td>0.813</td>\n",
              "      <td>healthy weight</td>\n",
              "      <td>18 - 44</td>\n",
              "      <td>F</td>\n",
              "      <td>0</td>\n",
              "    </tr>\n",
              "    <tr>\n",
              "      <th>11</th>\n",
              "      <td>4</td>\n",
              "      <td>95.0</td>\n",
              "      <td>70.0</td>\n",
              "      <td>32.0</td>\n",
              "      <td>NaN</td>\n",
              "      <td>0.612</td>\n",
              "      <td>obese_1</td>\n",
              "      <td>18 - 44</td>\n",
              "      <td>F</td>\n",
              "      <td>0</td>\n",
              "    </tr>\n",
              "    <tr>\n",
              "      <th>12</th>\n",
              "      <td>3</td>\n",
              "      <td>125.0</td>\n",
              "      <td>58.0</td>\n",
              "      <td>NaN</td>\n",
              "      <td>NaN</td>\n",
              "      <td>0.151</td>\n",
              "      <td>obese_1</td>\n",
              "      <td>18 - 44</td>\n",
              "      <td>F</td>\n",
              "      <td>0</td>\n",
              "    </tr>\n",
              "    <tr>\n",
              "      <th>13</th>\n",
              "      <td>1</td>\n",
              "      <td>164.0</td>\n",
              "      <td>82.0</td>\n",
              "      <td>43.0</td>\n",
              "      <td>67.0</td>\n",
              "      <td>0.341</td>\n",
              "      <td>obese_1</td>\n",
              "      <td>45 - 64</td>\n",
              "      <td>F</td>\n",
              "      <td>0</td>\n",
              "    </tr>\n",
              "    <tr>\n",
              "      <th>14</th>\n",
              "      <td>0</td>\n",
              "      <td>94.0</td>\n",
              "      <td>70.0</td>\n",
              "      <td>27.0</td>\n",
              "      <td>115.0</td>\n",
              "      <td>0_34700000000000003</td>\n",
              "      <td>obsese_3</td>\n",
              "      <td>18 - 44</td>\n",
              "      <td>m</td>\n",
              "      <td>0</td>\n",
              "    </tr>\n",
              "    <tr>\n",
              "      <th>15</th>\n",
              "      <td>0</td>\n",
              "      <td>106.0</td>\n",
              "      <td>70.0</td>\n",
              "      <td>37.0</td>\n",
              "      <td>148.0</td>\n",
              "      <td>0_605</td>\n",
              "      <td>obese_2</td>\n",
              "      <td>18 - 44</td>\n",
              "      <td>F</td>\n",
              "      <td>0</td>\n",
              "    </tr>\n",
              "    <tr>\n",
              "      <th>16</th>\n",
              "      <td>2</td>\n",
              "      <td>142.0</td>\n",
              "      <td>82.0</td>\n",
              "      <td>18.0</td>\n",
              "      <td>64.0</td>\n",
              "      <td>0.7609999999999999</td>\n",
              "      <td>healthy weight</td>\n",
              "      <td>18 - 44</td>\n",
              "      <td>F</td>\n",
              "      <td>0</td>\n",
              "    </tr>\n",
              "    <tr>\n",
              "      <th>17</th>\n",
              "      <td>12</td>\n",
              "      <td>88.0</td>\n",
              "      <td>74.0</td>\n",
              "      <td>40.0</td>\n",
              "      <td>54.0</td>\n",
              "      <td>0.37799999999999995</td>\n",
              "      <td>obese_2</td>\n",
              "      <td>45 - 64</td>\n",
              "      <td>F</td>\n",
              "      <td>0</td>\n",
              "    </tr>\n",
              "    <tr>\n",
              "      <th>18</th>\n",
              "      <td>4</td>\n",
              "      <td>128.0</td>\n",
              "      <td>70.0</td>\n",
              "      <td>NaN</td>\n",
              "      <td>NaN</td>\n",
              "      <td>0.303</td>\n",
              "      <td>obese_1</td>\n",
              "      <td>18 - 44</td>\n",
              "      <td>F</td>\n",
              "      <td>0</td>\n",
              "    </tr>\n",
              "    <tr>\n",
              "      <th>19</th>\n",
              "      <td>0</td>\n",
              "      <td>105.0</td>\n",
              "      <td>90.0</td>\n",
              "      <td>NaN</td>\n",
              "      <td>NaN</td>\n",
              "      <td>0.19699999999999998</td>\n",
              "      <td>overweight</td>\n",
              "      <td>45 - 64</td>\n",
              "      <td>m</td>\n",
              "      <td>0</td>\n",
              "    </tr>\n",
              "  </tbody>\n",
              "</table>\n",
              "</div>\n",
              "      <button class=\"colab-df-convert\" onclick=\"convertToInteractive('df-8e59467f-b74e-46af-86e0-5cff2b9d13b5')\"\n",
              "              title=\"Convert this dataframe to an interactive table.\"\n",
              "              style=\"display:none;\">\n",
              "        \n",
              "  <svg xmlns=\"http://www.w3.org/2000/svg\" height=\"24px\"viewBox=\"0 0 24 24\"\n",
              "       width=\"24px\">\n",
              "    <path d=\"M0 0h24v24H0V0z\" fill=\"none\"/>\n",
              "    <path d=\"M18.56 5.44l.94 2.06.94-2.06 2.06-.94-2.06-.94-.94-2.06-.94 2.06-2.06.94zm-11 1L8.5 8.5l.94-2.06 2.06-.94-2.06-.94L8.5 2.5l-.94 2.06-2.06.94zm10 10l.94 2.06.94-2.06 2.06-.94-2.06-.94-.94-2.06-.94 2.06-2.06.94z\"/><path d=\"M17.41 7.96l-1.37-1.37c-.4-.4-.92-.59-1.43-.59-.52 0-1.04.2-1.43.59L10.3 9.45l-7.72 7.72c-.78.78-.78 2.05 0 2.83L4 21.41c.39.39.9.59 1.41.59.51 0 1.02-.2 1.41-.59l7.78-7.78 2.81-2.81c.8-.78.8-2.07 0-2.86zM5.41 20L4 18.59l7.72-7.72 1.47 1.35L5.41 20z\"/>\n",
              "  </svg>\n",
              "      </button>\n",
              "      \n",
              "  <style>\n",
              "    .colab-df-container {\n",
              "      display:flex;\n",
              "      flex-wrap:wrap;\n",
              "      gap: 12px;\n",
              "    }\n",
              "\n",
              "    .colab-df-convert {\n",
              "      background-color: #E8F0FE;\n",
              "      border: none;\n",
              "      border-radius: 50%;\n",
              "      cursor: pointer;\n",
              "      display: none;\n",
              "      fill: #1967D2;\n",
              "      height: 32px;\n",
              "      padding: 0 0 0 0;\n",
              "      width: 32px;\n",
              "    }\n",
              "\n",
              "    .colab-df-convert:hover {\n",
              "      background-color: #E2EBFA;\n",
              "      box-shadow: 0px 1px 2px rgba(60, 64, 67, 0.3), 0px 1px 3px 1px rgba(60, 64, 67, 0.15);\n",
              "      fill: #174EA6;\n",
              "    }\n",
              "\n",
              "    [theme=dark] .colab-df-convert {\n",
              "      background-color: #3B4455;\n",
              "      fill: #D2E3FC;\n",
              "    }\n",
              "\n",
              "    [theme=dark] .colab-df-convert:hover {\n",
              "      background-color: #434B5C;\n",
              "      box-shadow: 0px 1px 3px 1px rgba(0, 0, 0, 0.15);\n",
              "      filter: drop-shadow(0px 1px 2px rgba(0, 0, 0, 0.3));\n",
              "      fill: #FFFFFF;\n",
              "    }\n",
              "  </style>\n",
              "\n",
              "      <script>\n",
              "        const buttonEl =\n",
              "          document.querySelector('#df-8e59467f-b74e-46af-86e0-5cff2b9d13b5 button.colab-df-convert');\n",
              "        buttonEl.style.display =\n",
              "          google.colab.kernel.accessAllowed ? 'block' : 'none';\n",
              "\n",
              "        async function convertToInteractive(key) {\n",
              "          const element = document.querySelector('#df-8e59467f-b74e-46af-86e0-5cff2b9d13b5');\n",
              "          const dataTable =\n",
              "            await google.colab.kernel.invokeFunction('convertToInteractive',\n",
              "                                                     [key], {});\n",
              "          if (!dataTable) return;\n",
              "\n",
              "          const docLinkHtml = 'Like what you see? Visit the ' +\n",
              "            '<a target=\"_blank\" href=https://colab.research.google.com/notebooks/data_table.ipynb>data table notebook</a>'\n",
              "            + ' to learn more about interactive tables.';\n",
              "          element.innerHTML = '';\n",
              "          dataTable['output_type'] = 'display_data';\n",
              "          await google.colab.output.renderOutput(dataTable, element);\n",
              "          const docLink = document.createElement('div');\n",
              "          docLink.innerHTML = docLinkHtml;\n",
              "          element.appendChild(docLink);\n",
              "        }\n",
              "      </script>\n",
              "    </div>\n",
              "  </div>\n",
              "  "
            ]
          },
          "metadata": {},
          "execution_count": 2
        }
      ]
    },
    {
      "cell_type": "code",
      "source": [
        "# Unadulterated copy for Machine Learning:\n",
        "\n",
        "dfML = df.copy()"
      ],
      "metadata": {
        "id": "17ZvbD0BlxJK"
      },
      "execution_count": 3,
      "outputs": []
    },
    {
      "cell_type": "code",
      "source": [
        "df.shape\n",
        "\n",
        "# 10 columns\n",
        "# 642 rows"
      ],
      "metadata": {
        "colab": {
          "base_uri": "https://localhost:8080/"
        },
        "id": "rcgwUe0NmDt_",
        "outputId": "320fd660-c8c6-4ad6-b7c5-74a78c264032"
      },
      "execution_count": 4,
      "outputs": [
        {
          "output_type": "execute_result",
          "data": {
            "text/plain": [
              "(642, 10)"
            ]
          },
          "metadata": {},
          "execution_count": 4
        }
      ]
    },
    {
      "cell_type": "markdown",
      "source": [
        "##**DATA CLEANING & PREPARATION**"
      ],
      "metadata": {
        "id": "00jFN3s-mK-x"
      }
    },
    {
      "cell_type": "code",
      "source": [
        "# Check for duplicated rows:\n",
        "\n",
        "df.duplicated().sum()"
      ],
      "metadata": {
        "colab": {
          "base_uri": "https://localhost:8080/"
        },
        "id": "1tq8VJEomFBa",
        "outputId": "39827f3d-4d13-4628-b82d-8883a5858953"
      },
      "execution_count": 5,
      "outputs": [
        {
          "output_type": "execute_result",
          "data": {
            "text/plain": [
              "3"
            ]
          },
          "metadata": {},
          "execution_count": 5
        }
      ]
    },
    {
      "cell_type": "code",
      "source": [
        "# Removal of duplicated rows and final check:\n",
        "\n",
        "df.drop_duplicates(inplace=True)\n",
        "\n",
        "df.duplicated().sum()"
      ],
      "metadata": {
        "colab": {
          "base_uri": "https://localhost:8080/"
        },
        "id": "Ne-8ltblml-m",
        "outputId": "9fab1554-6aa6-4af7-80a9-d07225c85179"
      },
      "execution_count": 6,
      "outputs": [
        {
          "output_type": "execute_result",
          "data": {
            "text/plain": [
              "0"
            ]
          },
          "metadata": {},
          "execution_count": 6
        }
      ]
    },
    {
      "cell_type": "code",
      "source": [
        "# Overview of dataset:\n",
        "\n",
        "df.info()"
      ],
      "metadata": {
        "colab": {
          "base_uri": "https://localhost:8080/"
        },
        "id": "YWz0cagUmrQe",
        "outputId": "744a1ca9-f750-4be2-d0b4-deeeffe07690"
      },
      "execution_count": 7,
      "outputs": [
        {
          "output_type": "stream",
          "name": "stdout",
          "text": [
            "<class 'pandas.core.frame.DataFrame'>\n",
            "Int64Index: 639 entries, 0 to 641\n",
            "Data columns (total 10 columns):\n",
            " #   Column                    Non-Null Count  Dtype  \n",
            "---  ------                    --------------  -----  \n",
            " 0   Pregnancies               639 non-null    int64  \n",
            " 1   Glucose                   635 non-null    float64\n",
            " 2   BloodPressure             613 non-null    float64\n",
            " 3   SkinThickness             454 non-null    float64\n",
            " 4   Insulin                   330 non-null    float64\n",
            " 5   DiabetesPedigreeFunction  639 non-null    object \n",
            " 6   WeightGroup               639 non-null    object \n",
            " 7   AgeGroup                  639 non-null    object \n",
            " 8   Gender                    639 non-null    object \n",
            " 9   Outcome                   639 non-null    int64  \n",
            "dtypes: float64(4), int64(2), object(4)\n",
            "memory usage: 54.9+ KB\n"
          ]
        }
      ]
    },
    {
      "cell_type": "markdown",
      "source": [
        "There should only be one float column, Diabetes Pedigree Function, three object columns, Weight Group, Age Group and Gender, and the rest of the columns should be (int) data types. "
      ],
      "metadata": {
        "id": "VIYIG4DFnA8B"
      }
    },
    {
      "cell_type": "code",
      "source": [
        "# Chaning column text to lower case for ease with future referencing:\n",
        "\n",
        "df.columns = df.columns.str.lower()"
      ],
      "metadata": {
        "id": "bHTCR16_o0_s"
      },
      "execution_count": 8,
      "outputs": []
    },
    {
      "cell_type": "code",
      "source": [
        "# Check for missing values: \n",
        "\n",
        "df.isna().sum()"
      ],
      "metadata": {
        "colab": {
          "base_uri": "https://localhost:8080/"
        },
        "id": "YAwGNJFHpCJn",
        "outputId": "fcbb4195-d98f-4cde-d666-194f80b92b28"
      },
      "execution_count": 9,
      "outputs": [
        {
          "output_type": "execute_result",
          "data": {
            "text/plain": [
              "pregnancies                   0\n",
              "glucose                       4\n",
              "bloodpressure                26\n",
              "skinthickness               185\n",
              "insulin                     309\n",
              "diabetespedigreefunction      0\n",
              "weightgroup                   0\n",
              "agegroup                      0\n",
              "gender                        0\n",
              "outcome                       0\n",
              "dtype: int64"
            ]
          },
          "metadata": {},
          "execution_count": 9
        }
      ]
    },
    {
      "cell_type": "markdown",
      "source": [
        "**TOTAL ENTRIES : 639**\n",
        "\n",
        "glucose [int] is missing 4/639 or 00.63% of its values.\n",
        "\n",
        "bloodpressure [int] is missing 26/639 or 04.07% of its values.\n",
        "\n",
        "skinthickness [int] is missing 185/639 or 29.00% of its values.\n",
        "\n",
        "insulin [int] is missing 309/639 or 48.40% of its values. \n",
        "\n",
        "**IMPUTATION STRATEGY:**\n",
        "\n",
        "We will use median for glucose and bloodpressure columns because they are missing such a small percentage of their values that the error induced by this strategy will be insignificant. \n",
        "\n",
        "Skinthickness and insulin are missing a lot of their data; close to one third and one half respectively. We will use a rounded mean to replace the missing values. \n"
      ],
      "metadata": {
        "id": "WuY4PDEhpQ_H"
      }
    },
    {
      "cell_type": "code",
      "source": [
        "# Imputation for glucose and bloodpressure:\n",
        "\n",
        "glucose = round(df['glucose'].median(),0)\n",
        "glucose\n",
        "\n",
        "bp = round(df['bloodpressure'].median(),0)\n",
        "bp\n",
        "\n",
        "df['glucose'].fillna(glucose, inplace =True)\n",
        "\n",
        "df['bloodpressure'].fillna(bp, inplace =True)\n",
        "\n",
        "# glucose = 99.0\n",
        "# bp = 70.0"
      ],
      "metadata": {
        "id": "v2AYYqwruBQe"
      },
      "execution_count": 10,
      "outputs": []
    },
    {
      "cell_type": "code",
      "source": [
        "# Imputation for skin thickness:\n",
        "insulin = round(df['skinthickness'].mean(),0)\n",
        "\n",
        "df['skinthickness'].fillna(insulin, inplace = True)\n",
        "\n",
        "df['skinthickness'].values"
      ],
      "metadata": {
        "colab": {
          "base_uri": "https://localhost:8080/"
        },
        "id": "5VEwq6iiuLeZ",
        "outputId": "8c8ae306-7674-4b3a-a8e9-29fd96758290"
      },
      "execution_count": 11,
      "outputs": [
        {
          "output_type": "execute_result",
          "data": {
            "text/plain": [
              "array([31., 35., 33., 39., 29., 29., 29., 28., 29., 40., 20., 32., 29.,\n",
              "       43., 27., 37., 18., 40., 29., 29., 35., 19., 30., 12., 29., 13.,\n",
              "       29., 40., 35., 26., 23., 26., 36., 30., 52., 36., 29., 24., 32.,\n",
              "       30., 27., 33., 27., 23., 29., 27., 25., 32., 50., 16., 38., 18.,\n",
              "       29., 29., 50., 13., 26., 29., 40., 47., 35., 32., 23., 41., 30.,\n",
              "       27., 20., 30., 17., 15., 29., 29., 26., 15., 28., 19., 37., 41.,\n",
              "       23., 29., 20., 29., 29., 21., 18., 29., 36., 29., 32., 29., 29.,\n",
              "       12., 20., 15., 29., 19., 10., 39., 33., 13., 29., 26., 41., 17.,\n",
              "       18., 29., 35., 22., 12., 29., 11., 15., 29., 28., 39., 24., 19.,\n",
              "       13., 29., 40., 24., 18., 39., 32., 33., 21., 37., 19., 23., 29.,\n",
              "       30., 29., 33., 29., 22., 38., 37., 29., 31., 15., 25., 46., 29.,\n",
              "       26., 29., 19., 41., 29., 23., 29., 22., 29., 29., 29., 23., 29.,\n",
              "       29., 29., 54., 13., 29., 17., 29., 41., 24., 29., 29., 35.,  7.,\n",
              "       46., 29., 24., 25., 20., 28., 12., 27., 29., 29., 11., 33., 23.,\n",
              "       12., 22., 13., 10., 45., 34., 54., 13., 28., 17., 44., 30., 32.,\n",
              "       29., 52., 25., 31., 29., 13., 29., 29., 17., 29., 22., 29., 30.,\n",
              "       18., 29., 30., 11., 29., 17., 29., 29., 41., 29., 29., 22., 29.,\n",
              "       40., 29., 50., 34., 40., 19., 46., 32., 17., 11., 29., 29., 43.,\n",
              "       29., 22., 29., 25., 38., 29., 28., 27., 10., 13., 36., 28., 27.,\n",
              "       29., 15., 41., 29., 29., 18., 29., 20., 19., 29., 27., 40., 17.,\n",
              "       29., 23., 15., 47., 33., 29., 14., 40., 31., 11., 27., 27., 36.,\n",
              "       34., 21., 19., 25., 24., 26., 28., 28., 38., 29., 32., 31., 29.,\n",
              "       35., 40., 25., 29., 39., 16., 34., 29., 39., 32., 28., 31., 37.,\n",
              "       30., 16., 21., 29., 37., 23., 39., 29., 25., 22., 29., 31., 26.,\n",
              "       31., 16., 29., 31., 29., 22., 21., 42., 29., 19., 19., 21., 20.,\n",
              "       37., 28., 29., 29., 21., 18., 32., 33., 42., 16., 29., 31., 30.,\n",
              "       29., 22., 29., 29., 23., 17., 29., 29., 10., 26., 17., 29., 29.,\n",
              "       18., 19., 29., 29., 23., 23., 14., 30., 13., 29., 29., 48., 29.,\n",
              "       27., 23., 29., 14., 32., 15., 11., 41., 49., 33., 20., 29., 26.,\n",
              "       22., 26., 29., 41., 29., 29., 29., 18., 30., 40., 23., 29., 33.,\n",
              "       32., 29., 29., 29., 29., 28., 31., 45., 29., 29., 29., 25., 27.,\n",
              "       29., 29., 29., 42., 31., 35., 29., 29., 29., 29., 29., 29., 29.,\n",
              "       17., 37., 29., 29., 30., 29., 40., 28., 37., 29., 30., 34., 40.,\n",
              "       24., 29., 32., 24., 39., 43., 28., 29., 29., 36., 29., 29., 29.,\n",
              "       35., 27., 44., 29., 22., 39., 39., 29., 28., 29., 24., 29., 51.,\n",
              "       44., 29., 28., 29., 15., 21., 45., 23., 23., 35., 30., 29., 41.,\n",
              "       36., 26., 29., 29., 20., 29., 29., 39., 36., 49., 29., 39.,  7.,\n",
              "       40., 31., 46., 39., 14., 37., 29., 29., 29., 36., 32., 35., 32.,\n",
              "       29., 39., 42., 30., 33., 32., 44., 29., 34., 29., 46., 29., 29.,\n",
              "       47., 27., 33., 22., 29., 19., 48., 17., 25., 46., 29., 12., 27.,\n",
              "       29., 29., 29., 38., 19., 37., 27., 29., 29., 29., 33., 35., 33.,\n",
              "       27., 29., 35., 27., 25., 22., 30., 24., 32., 29., 41., 33., 29.,\n",
              "       29., 46., 45., 29., 29., 41., 37., 29., 42., 13., 29., 14., 32.,\n",
              "       29., 29., 29., 29., 48., 43., 32., 29., 32., 36., 23., 29., 31.,\n",
              "       35., 49., 29., 29., 25., 30., 47., 32., 29., 29., 18., 41., 24.,\n",
              "       31., 29., 42., 32., 38., 36., 30., 99., 33., 31., 29., 42., 29.,\n",
              "       29., 19., 32., 40., 29., 32., 29., 26., 32., 21., 26., 56., 29.,\n",
              "       39., 29., 29., 36., 29., 41., 18., 29., 24., 36., 46., 33., 42.,\n",
              "       35., 37., 25., 37., 30., 18., 29., 29., 29., 29., 26., 29., 34.,\n",
              "       37., 63.])"
            ]
          },
          "metadata": {},
          "execution_count": 11
        }
      ]
    },
    {
      "cell_type": "code",
      "source": [
        "# Imputation for insulin:\n",
        "insulin = round(df['insulin'].mean(),0)\n",
        "\n",
        "df['insulin'].fillna(insulin, inplace = True)\n",
        "\n",
        "df['insulin'].values"
      ],
      "metadata": {
        "colab": {
          "base_uri": "https://localhost:8080/"
        },
        "id": "V1-2ksYwv0Yi",
        "outputId": "2c9bc96c-e080-4607-eeb9-f67f3fc9e1df"
      },
      "execution_count": 12,
      "outputs": [
        {
          "output_type": "execute_result",
          "data": {
            "text/plain": [
              "array([159., 440., 190., 159., 159., 159., 159., 159., 159.,  48., 130.,\n",
              "       159., 159.,  67., 115., 148.,  64.,  54., 159., 159., 240., 159.,\n",
              "       120., 231., 159.,  38., 159., 105., 159., 168., 159.,  63., 108.,\n",
              "       159.,  65., 159., 159., 159., 210., 159., 159., 215., 165., 159.,\n",
              "       159., 200., 159.,  56.,  45.,  44., 159., 159., 159., 125., 204.,\n",
              "       387., 159., 159.,  90.,  54., 140., 126.,  56.,  42., 159.,  22.,\n",
              "        94., 159., 159.,  84., 159., 159., 159., 155., 159.,  53.,  75.,\n",
              "       142., 112., 159., 159., 159., 159., 159.,  66., 159., 159., 159.,\n",
              "       159., 159., 159.,  70., 159.,  94., 159.,  74., 278., 105., 159.,\n",
              "        95., 159.,  50., 235., 110.,  40., 159.,  90., 159.,  46., 159.,\n",
              "        64., 140., 159.,  71.,  74., 275.,  83., 182., 159.,  49.,  55.,\n",
              "        59., 159., 159., 190., 135., 159., 159., 159., 159., 106., 159.,\n",
              "       402., 159., 159.,  75., 159., 159., 159., 105., 100., 145., 159.,\n",
              "        71., 159., 110., 159., 159., 115., 159.,  49., 159., 159., 159.,\n",
              "       170., 159., 159., 159., 159., 105., 159., 159., 159., 480., 159.,\n",
              "       159., 159., 194., 326.,  78., 159., 110.,  92., 159.,  45.,  43.,\n",
              "       120., 180., 159., 159., 105., 106.,  87.,  94., 105.,  85., 230.,\n",
              "       285., 159.,  15., 159., 120.,  94., 135., 159., 159.,  57.,  41.,\n",
              "       125., 159., 159., 215., 159., 160., 159.,  61., 159.,  64.,  76.,\n",
              "       159.,  18.,  54., 159., 210., 159., 159., 140., 159., 159.,  66.,\n",
              "       159., 159., 159., 140., 128., 159.,  86., 178., 159., 159., 155.,\n",
              "       159., 159., 158., 159., 115., 159.,  70., 159., 159., 122., 159.,\n",
              "       159.,  49., 100., 140., 159., 126., 159., 170., 152., 159.,  58.,\n",
              "       159., 140., 159., 159., 120., 159., 183., 159., 116.,  56.,  63.,\n",
              "       130., 159., 148., 159., 284.,  60.,  32., 228.,  94., 115., 335.,\n",
              "        25., 293.,  44., 205.,  83., 135.,  83., 159.,  95., 188., 159.,\n",
              "       119.,  94.,  79., 159., 140.,  52.,  37., 159., 272., 159., 159.,\n",
              "        44., 105., 159., 375.,  73., 159., 210.,  49.,  72., 159., 159.,\n",
              "       159., 159., 120., 135.,  18.,  66., 159., 159., 159., 159., 168.,\n",
              "       160., 159., 159.,  82.,  23., 291., 159.,  66., 159., 159., 166.,\n",
              "       106.,  88., 680.,  48., 159., 159., 159., 330., 159., 159., 159.,\n",
              "       159., 159.,  49., 159., 159., 159.,  16., 265., 159., 159.,  76.,\n",
              "        54., 159., 159., 310.,  89.,  55., 176.,  50., 159., 159., 180.,\n",
              "       159., 159.,  50., 159., 415., 193.,  51.,  82., 114., 125., 392.,\n",
              "        90., 159., 144., 200.,  90., 159., 129., 159., 159., 159., 122.,\n",
              "       180., 159., 132., 159., 474., 274., 159., 159., 159., 159., 205.,\n",
              "       159., 191., 159., 159., 159., 180., 159., 159., 159., 159., 130.,\n",
              "       159., 159., 159., 159., 159., 159., 159., 159., 159., 144., 370.,\n",
              "       159., 127., 165., 159., 215., 150., 159., 159., 159., 171., 167.,\n",
              "       240., 478., 159., 145., 159., 159., 140., 159., 159., 495., 159.,\n",
              "       159., 159., 160., 156.,  99., 159., 159., 185., 304., 159., 155.,\n",
              "       159., 159., 159., 220., 510., 159., 159., 159., 159., 192., 543.,\n",
              "       846.,  79., 159.,  96., 159.,  58., 159., 495., 159., 159., 159.,\n",
              "       159., 159., 277., 159., 155., 159., 110., 258., 159., 159., 130.,\n",
              "       220., 168., 120., 159., 159., 159., 245., 175., 167., 156., 159.,\n",
              "       114., 250., 159., 325., 159., 159., 159., 165., 159., 159., 159.,\n",
              "       159., 230., 540., 145., 176., 159., 180., 465.,  96.,  36., 180.,\n",
              "       159., 159., 159., 159., 159., 159., 360., 125., 182., 207., 159.,\n",
              "       159., 159., 159., 130., 135., 318., 159., 168., 159., 184., 194.,\n",
              "        74., 600., 175., 159., 159.,  29., 159., 159., 130., 194., 159.,\n",
              "       159., 210., 159., 115., 293.,  48., 159., 185., 110., 159., 159.,\n",
              "       159., 159., 237., 325., 159., 159., 160., 120., 130., 159., 159.,\n",
              "       159., 579., 159., 159., 159., 159., 207., 159., 159., 159., 105.,\n",
              "       159., 159., 159., 159., 321., 210., 159., 159., 159., 159., 146.,\n",
              "        70., 159., 159., 159., 159., 175.,  88., 271., 159.,  91., 159.,\n",
              "       115., 159., 159., 130., 100., 159., 159., 159., 159., 159., 126.,\n",
              "        88., 159., 159., 480., 249., 231., 135.,  99., 225., 225., 190.,\n",
              "       150., 328., 156., 159., 159., 280., 159., 285., 159., 300.,  64.,\n",
              "        14.])"
            ]
          },
          "metadata": {},
          "execution_count": 12
        }
      ]
    },
    {
      "cell_type": "code",
      "source": [
        "# Final check for missing values:\n",
        "\n",
        "df.isna().sum()"
      ],
      "metadata": {
        "colab": {
          "base_uri": "https://localhost:8080/"
        },
        "id": "1BxBioXEwvky",
        "outputId": "e261c15d-8ff0-4a89-ec96-91f6c4bc609d"
      },
      "execution_count": 13,
      "outputs": [
        {
          "output_type": "execute_result",
          "data": {
            "text/plain": [
              "pregnancies                 0\n",
              "glucose                     0\n",
              "bloodpressure               0\n",
              "skinthickness               0\n",
              "insulin                     0\n",
              "diabetespedigreefunction    0\n",
              "weightgroup                 0\n",
              "agegroup                    0\n",
              "gender                      0\n",
              "outcome                     0\n",
              "dtype: int64"
            ]
          },
          "metadata": {},
          "execution_count": 13
        }
      ]
    },
    {
      "cell_type": "code",
      "source": [
        "# Correcting data tpyes of mislabeled numeric columns:\n",
        "\n",
        "# Integer columns:\n",
        "\n",
        "df['glucose'] = df['glucose'].astype(int)\n",
        "df['bloodpressure'] = df['bloodpressure'].astype(int)\n",
        "df['skinthickness'] = df['skinthickness'].astype(int)\n",
        "df['insulin'] = df['insulin'].astype(int)\n",
        "\n",
        "# Float columns:\n",
        "\n",
        "df['diabetespedigreefunction'] = df['diabetespedigreefunction'].astype(float)"
      ],
      "metadata": {
        "id": "nugK2LRp0Se0"
      },
      "execution_count": 14,
      "outputs": []
    },
    {
      "cell_type": "code",
      "source": [
        "# Checking value names in object columns for inconsistencies:\n",
        "\n",
        "datatypes = df.dtypes\n",
        "object_cols = datatypes[datatypes =='object'].index\n",
        "object_cols\n",
        "\n",
        "for column in object_cols:\n",
        "  print(f'Column Name = {column}')\n",
        "  print('\\n')\n",
        "  print(df[column].value_counts(dropna=False))\n",
        "  print('\\n\\n')"
      ],
      "metadata": {
        "colab": {
          "base_uri": "https://localhost:8080/"
        },
        "id": "n4gfP1br1pdj",
        "outputId": "4aeea7fe-7c74-41a9-cb8b-53918f5df86d"
      },
      "execution_count": 15,
      "outputs": [
        {
          "output_type": "stream",
          "name": "stdout",
          "text": [
            "Column Name = weightgroup\n",
            "\n",
            "\n",
            "obese_1           195\n",
            "overweight        146\n",
            "obese_2           126\n",
            "obsese_3           86\n",
            "healthy weight     74\n",
            "MISSING             8\n",
            "underweight         4\n",
            "Name: weightgroup, dtype: int64\n",
            "\n",
            "\n",
            "\n",
            "Column Name = agegroup\n",
            "\n",
            "\n",
            "18 - 44    526\n",
            "45 - 64    102\n",
            ">65          8\n",
            "<65          3\n",
            "Name: agegroup, dtype: int64\n",
            "\n",
            "\n",
            "\n",
            "Column Name = gender\n",
            "\n",
            "\n",
            "F    563\n",
            "M     59\n",
            "m     17\n",
            "Name: gender, dtype: int64\n",
            "\n",
            "\n",
            "\n"
          ]
        }
      ]
    },
    {
      "cell_type": "code",
      "source": [
        "# Addressing the inconsistencies:\n",
        "\n",
        "df['weightgroup'].replace('MISSING', 'missing', inplace =True)\n",
        "\n",
        "df['agegroup'].replace('<65', '>65', inplace = True)\n",
        "\n",
        "df['gender'].replace('m','M', inplace =True )\n",
        "\n",
        "# Check:\n",
        "\n",
        "df['weightgroup'].value_counts()\n",
        "\n",
        "df['gender'].value_counts()\n",
        "\n",
        "df['agegroup'].value_counts()"
      ],
      "metadata": {
        "colab": {
          "base_uri": "https://localhost:8080/"
        },
        "id": "zVkZ51yI1VUk",
        "outputId": "28e044a8-42df-411e-ba47-f82bbc2b0e1b"
      },
      "execution_count": 16,
      "outputs": [
        {
          "output_type": "execute_result",
          "data": {
            "text/plain": [
              "18 - 44    526\n",
              "45 - 64    102\n",
              ">65         11\n",
              "Name: agegroup, dtype: int64"
            ]
          },
          "metadata": {},
          "execution_count": 16
        }
      ]
    },
    {
      "cell_type": "code",
      "source": [
        "# Correcting data tpyes of mislabeled string columns:\n",
        "\n",
        "df['weightgroup'] = df['weightgroup'].astype(str)\n",
        "df['agegroup'] = df['agegroup'].astype(str)\n",
        "df['gender'] = df['gender'].astype(str)"
      ],
      "metadata": {
        "id": "7Yek9yJL5OWO"
      },
      "execution_count": 17,
      "outputs": []
    },
    {
      "cell_type": "code",
      "source": [
        "# Check for unusual / unrealistic numeric values:\n",
        "\n",
        "df.describe().round(3)"
      ],
      "metadata": {
        "colab": {
          "base_uri": "https://localhost:8080/",
          "height": 300
        },
        "id": "pNOthYcf3ZU4",
        "outputId": "2c6a2631-6a0d-424c-bcd7-719a38502ea6"
      },
      "execution_count": 18,
      "outputs": [
        {
          "output_type": "execute_result",
          "data": {
            "text/plain": [
              "       pregnancies  glucose  bloodpressure  skinthickness  insulin  \\\n",
              "count      639.000  639.000        639.000        639.000  639.000   \n",
              "mean         5.465  123.903         72.465         29.335  158.984   \n",
              "std         39.552   30.641         12.000          8.880   84.328   \n",
              "min          0.000   56.000         24.000          7.000   14.000   \n",
              "25%          1.000  100.000         64.000         25.000  127.500   \n",
              "50%          3.000  120.000         72.000         29.000  159.000   \n",
              "75%          6.000  143.500         80.000         33.000  159.000   \n",
              "max       1000.000  199.000        114.000         99.000  846.000   \n",
              "\n",
              "       diabetespedigreefunction  outcome  \n",
              "count              6.390000e+02  639.000  \n",
              "mean               2.141158e+14    0.419  \n",
              "std                2.341739e+15    0.494  \n",
              "min                8.500000e-02    0.000  \n",
              "25%                2.520000e-01    0.000  \n",
              "50%                3.980000e-01    0.000  \n",
              "75%                6.740000e-01    1.000  \n",
              "max                3.470000e+16    1.000  "
            ],
            "text/html": [
              "\n",
              "  <div id=\"df-94b64840-e219-47c6-9951-938391a62a9a\">\n",
              "    <div class=\"colab-df-container\">\n",
              "      <div>\n",
              "<style scoped>\n",
              "    .dataframe tbody tr th:only-of-type {\n",
              "        vertical-align: middle;\n",
              "    }\n",
              "\n",
              "    .dataframe tbody tr th {\n",
              "        vertical-align: top;\n",
              "    }\n",
              "\n",
              "    .dataframe thead th {\n",
              "        text-align: right;\n",
              "    }\n",
              "</style>\n",
              "<table border=\"1\" class=\"dataframe\">\n",
              "  <thead>\n",
              "    <tr style=\"text-align: right;\">\n",
              "      <th></th>\n",
              "      <th>pregnancies</th>\n",
              "      <th>glucose</th>\n",
              "      <th>bloodpressure</th>\n",
              "      <th>skinthickness</th>\n",
              "      <th>insulin</th>\n",
              "      <th>diabetespedigreefunction</th>\n",
              "      <th>outcome</th>\n",
              "    </tr>\n",
              "  </thead>\n",
              "  <tbody>\n",
              "    <tr>\n",
              "      <th>count</th>\n",
              "      <td>639.000</td>\n",
              "      <td>639.000</td>\n",
              "      <td>639.000</td>\n",
              "      <td>639.000</td>\n",
              "      <td>639.000</td>\n",
              "      <td>6.390000e+02</td>\n",
              "      <td>639.000</td>\n",
              "    </tr>\n",
              "    <tr>\n",
              "      <th>mean</th>\n",
              "      <td>5.465</td>\n",
              "      <td>123.903</td>\n",
              "      <td>72.465</td>\n",
              "      <td>29.335</td>\n",
              "      <td>158.984</td>\n",
              "      <td>2.141158e+14</td>\n",
              "      <td>0.419</td>\n",
              "    </tr>\n",
              "    <tr>\n",
              "      <th>std</th>\n",
              "      <td>39.552</td>\n",
              "      <td>30.641</td>\n",
              "      <td>12.000</td>\n",
              "      <td>8.880</td>\n",
              "      <td>84.328</td>\n",
              "      <td>2.341739e+15</td>\n",
              "      <td>0.494</td>\n",
              "    </tr>\n",
              "    <tr>\n",
              "      <th>min</th>\n",
              "      <td>0.000</td>\n",
              "      <td>56.000</td>\n",
              "      <td>24.000</td>\n",
              "      <td>7.000</td>\n",
              "      <td>14.000</td>\n",
              "      <td>8.500000e-02</td>\n",
              "      <td>0.000</td>\n",
              "    </tr>\n",
              "    <tr>\n",
              "      <th>25%</th>\n",
              "      <td>1.000</td>\n",
              "      <td>100.000</td>\n",
              "      <td>64.000</td>\n",
              "      <td>25.000</td>\n",
              "      <td>127.500</td>\n",
              "      <td>2.520000e-01</td>\n",
              "      <td>0.000</td>\n",
              "    </tr>\n",
              "    <tr>\n",
              "      <th>50%</th>\n",
              "      <td>3.000</td>\n",
              "      <td>120.000</td>\n",
              "      <td>72.000</td>\n",
              "      <td>29.000</td>\n",
              "      <td>159.000</td>\n",
              "      <td>3.980000e-01</td>\n",
              "      <td>0.000</td>\n",
              "    </tr>\n",
              "    <tr>\n",
              "      <th>75%</th>\n",
              "      <td>6.000</td>\n",
              "      <td>143.500</td>\n",
              "      <td>80.000</td>\n",
              "      <td>33.000</td>\n",
              "      <td>159.000</td>\n",
              "      <td>6.740000e-01</td>\n",
              "      <td>1.000</td>\n",
              "    </tr>\n",
              "    <tr>\n",
              "      <th>max</th>\n",
              "      <td>1000.000</td>\n",
              "      <td>199.000</td>\n",
              "      <td>114.000</td>\n",
              "      <td>99.000</td>\n",
              "      <td>846.000</td>\n",
              "      <td>3.470000e+16</td>\n",
              "      <td>1.000</td>\n",
              "    </tr>\n",
              "  </tbody>\n",
              "</table>\n",
              "</div>\n",
              "      <button class=\"colab-df-convert\" onclick=\"convertToInteractive('df-94b64840-e219-47c6-9951-938391a62a9a')\"\n",
              "              title=\"Convert this dataframe to an interactive table.\"\n",
              "              style=\"display:none;\">\n",
              "        \n",
              "  <svg xmlns=\"http://www.w3.org/2000/svg\" height=\"24px\"viewBox=\"0 0 24 24\"\n",
              "       width=\"24px\">\n",
              "    <path d=\"M0 0h24v24H0V0z\" fill=\"none\"/>\n",
              "    <path d=\"M18.56 5.44l.94 2.06.94-2.06 2.06-.94-2.06-.94-.94-2.06-.94 2.06-2.06.94zm-11 1L8.5 8.5l.94-2.06 2.06-.94-2.06-.94L8.5 2.5l-.94 2.06-2.06.94zm10 10l.94 2.06.94-2.06 2.06-.94-2.06-.94-.94-2.06-.94 2.06-2.06.94z\"/><path d=\"M17.41 7.96l-1.37-1.37c-.4-.4-.92-.59-1.43-.59-.52 0-1.04.2-1.43.59L10.3 9.45l-7.72 7.72c-.78.78-.78 2.05 0 2.83L4 21.41c.39.39.9.59 1.41.59.51 0 1.02-.2 1.41-.59l7.78-7.78 2.81-2.81c.8-.78.8-2.07 0-2.86zM5.41 20L4 18.59l7.72-7.72 1.47 1.35L5.41 20z\"/>\n",
              "  </svg>\n",
              "      </button>\n",
              "      \n",
              "  <style>\n",
              "    .colab-df-container {\n",
              "      display:flex;\n",
              "      flex-wrap:wrap;\n",
              "      gap: 12px;\n",
              "    }\n",
              "\n",
              "    .colab-df-convert {\n",
              "      background-color: #E8F0FE;\n",
              "      border: none;\n",
              "      border-radius: 50%;\n",
              "      cursor: pointer;\n",
              "      display: none;\n",
              "      fill: #1967D2;\n",
              "      height: 32px;\n",
              "      padding: 0 0 0 0;\n",
              "      width: 32px;\n",
              "    }\n",
              "\n",
              "    .colab-df-convert:hover {\n",
              "      background-color: #E2EBFA;\n",
              "      box-shadow: 0px 1px 2px rgba(60, 64, 67, 0.3), 0px 1px 3px 1px rgba(60, 64, 67, 0.15);\n",
              "      fill: #174EA6;\n",
              "    }\n",
              "\n",
              "    [theme=dark] .colab-df-convert {\n",
              "      background-color: #3B4455;\n",
              "      fill: #D2E3FC;\n",
              "    }\n",
              "\n",
              "    [theme=dark] .colab-df-convert:hover {\n",
              "      background-color: #434B5C;\n",
              "      box-shadow: 0px 1px 3px 1px rgba(0, 0, 0, 0.15);\n",
              "      filter: drop-shadow(0px 1px 2px rgba(0, 0, 0, 0.3));\n",
              "      fill: #FFFFFF;\n",
              "    }\n",
              "  </style>\n",
              "\n",
              "      <script>\n",
              "        const buttonEl =\n",
              "          document.querySelector('#df-94b64840-e219-47c6-9951-938391a62a9a button.colab-df-convert');\n",
              "        buttonEl.style.display =\n",
              "          google.colab.kernel.accessAllowed ? 'block' : 'none';\n",
              "\n",
              "        async function convertToInteractive(key) {\n",
              "          const element = document.querySelector('#df-94b64840-e219-47c6-9951-938391a62a9a');\n",
              "          const dataTable =\n",
              "            await google.colab.kernel.invokeFunction('convertToInteractive',\n",
              "                                                     [key], {});\n",
              "          if (!dataTable) return;\n",
              "\n",
              "          const docLinkHtml = 'Like what you see? Visit the ' +\n",
              "            '<a target=\"_blank\" href=https://colab.research.google.com/notebooks/data_table.ipynb>data table notebook</a>'\n",
              "            + ' to learn more about interactive tables.';\n",
              "          element.innerHTML = '';\n",
              "          dataTable['output_type'] = 'display_data';\n",
              "          await google.colab.output.renderOutput(dataTable, element);\n",
              "          const docLink = document.createElement('div');\n",
              "          docLink.innerHTML = docLinkHtml;\n",
              "          element.appendChild(docLink);\n",
              "        }\n",
              "      </script>\n",
              "    </div>\n",
              "  </div>\n",
              "  "
            ]
          },
          "metadata": {},
          "execution_count": 18
        }
      ]
    },
    {
      "cell_type": "code",
      "source": [
        "# Final scan of cleaned data:\n",
        "\n",
        "df.info()"
      ],
      "metadata": {
        "colab": {
          "base_uri": "https://localhost:8080/"
        },
        "id": "6NRI1n3y4Rfq",
        "outputId": "c643835c-579d-4cc2-d8b0-c907c082d696"
      },
      "execution_count": 19,
      "outputs": [
        {
          "output_type": "stream",
          "name": "stdout",
          "text": [
            "<class 'pandas.core.frame.DataFrame'>\n",
            "Int64Index: 639 entries, 0 to 641\n",
            "Data columns (total 10 columns):\n",
            " #   Column                    Non-Null Count  Dtype  \n",
            "---  ------                    --------------  -----  \n",
            " 0   pregnancies               639 non-null    int64  \n",
            " 1   glucose                   639 non-null    int64  \n",
            " 2   bloodpressure             639 non-null    int64  \n",
            " 3   skinthickness             639 non-null    int64  \n",
            " 4   insulin                   639 non-null    int64  \n",
            " 5   diabetespedigreefunction  639 non-null    float64\n",
            " 6   weightgroup               639 non-null    object \n",
            " 7   agegroup                  639 non-null    object \n",
            " 8   gender                    639 non-null    object \n",
            " 9   outcome                   639 non-null    int64  \n",
            "dtypes: float64(1), int64(6), object(3)\n",
            "memory usage: 54.9+ KB\n"
          ]
        }
      ]
    },
    {
      "cell_type": "markdown",
      "source": [
        "## **EXPLORATORY ANALYSIS**"
      ],
      "metadata": {
        "id": "dt7xG50455T7"
      }
    },
    {
      "cell_type": "code",
      "source": [
        "import matplotlib.pyplot as plt\n",
        "import seaborn as sns\n",
        "\n",
        "# Heat map to see which features are correlated with our target outcome:\n",
        "\n",
        "correlation = df.corr().round(2)\n",
        "\n",
        "fig, hm = plt.subplots(nrows=1, ncols =1, figsize=(10,10));\n",
        "hm = sns.heatmap(correlation, cmap='rocket_r', annot=True);\n",
        "hm.set_title('Correlation Heatmap\\n', fontsize= 24);"
      ],
      "metadata": {
        "colab": {
          "base_uri": "https://localhost:8080/",
          "height": 762
        },
        "id": "SQQPrQSq6CGd",
        "outputId": "1b6128dd-3a5b-4fc8-f9a6-5e3812ec1c0d"
      },
      "execution_count": 20,
      "outputs": [
        {
          "output_type": "display_data",
          "data": {
            "text/plain": [
              "<Figure size 720x720 with 2 Axes>"
            ],
            "image/png": "[encoded data removed]"
          },
          "metadata": {
            "needs_background": "light"
          }
        }
      ]
    },
    {
      "cell_type": "markdown",
      "source": [
        "Analysis:\n",
        "\n",
        "We can see from the heat map that glucose has the strongest positive correlation with outcome and diabetes pedigree function has the weakest positive correlation - we can assume that they are not correlated. I'd expect to see a linear or near-linear relationship between glucose levels and the likelihood that a patient has diabetes. The same could be true for insulin and skin thickness, both share a weaker correlations with our target. "
      ],
      "metadata": {
        "id": "_gQK7yg474kP"
      }
    },
    {
      "cell_type": "code",
      "source": [
        "fig, axes = plt.subplots(nrows=1, ncols =1, figsize=(10,8));\n",
        "\n",
        "ag = sns.boxplot(data =df, x= 'agegroup', y = 'glucose', width=.5, palette='Blues', boxprops=dict(alpha=.9),\n",
        "                 medianprops=dict(linestyle='-', linewidth=3, color='DarkOrange'), \n",
        "                 showmeans=True, \n",
        "                 meanprops=dict(marker='X', markersize= 10, \n",
        "                                markeredgecolor='black', \n",
        "                                markerfacecolor='firebrick'));\n",
        "plt.title('Glucose Concentration by Age Group\\n', fontsize =24)\n",
        "plt.ylabel(' Glucose Concentration\\n\\n', fontsize=16);\n",
        "plt.xlabel('\\n\\n Age Group', fontsize=16);"
      ],
      "metadata": {
        "colab": {
          "base_uri": "https://localhost:8080/",
          "height": 589
        },
        "id": "tnLAg776FTmo",
        "outputId": "cdd66346-dd76-4097-a851-2b2effb8cf44"
      },
      "execution_count": 21,
      "outputs": [
        {
          "output_type": "display_data",
          "data": {
            "text/plain": [
              "<Figure size 720x576 with 1 Axes>"
            ],
            "image/png": "[encoded data removed]"
          },
          "metadata": {
            "needs_background": "light"
          }
        }
      ]
    },
    {
      "cell_type": "markdown",
      "source": [
        "Analysis:\n",
        "\n",
        "Looking at the upper, median, and lower quartile limits of each age group we can see that there is a trend toward higher glucose levels as patients age. ON average glucose increases with age, the patient with the highest glucose level belongs to the youngest age group howver. \n",
        "\n",
        "At a glance it appears that the 45-65 age group is symmetrically distributed on either side of glucose levels around ~ 135, this observation is supported by an equal mean and median. There is only one outlier for the entire distribution. One patient 65+ year old patient has a glucose level below 60, this is equal to or lower than the pateint with the lowest glucose levels in the youngest age group. "
      ],
      "metadata": {
        "id": "KhejiYJqLNIj"
      }
    },
    {
      "cell_type": "markdown",
      "source": [
        "## **DATA PREPARATION FOR MACHINE LEARNING**"
      ],
      "metadata": {
        "id": "93PdRNt8Tg4B"
      }
    },
    {
      "cell_type": "code",
      "source": [
        "# Preliminary check of the unadulterated dataframe copy:\n",
        "\n",
        "dfML.columns = dfML.columns.str.lower()\n",
        "\n",
        "dfML.info()"
      ],
      "metadata": {
        "colab": {
          "base_uri": "https://localhost:8080/"
        },
        "id": "W-gVXsnTGLoV",
        "outputId": "59d310f1-5fa9-44fe-dfa9-080b207d9e54"
      },
      "execution_count": 22,
      "outputs": [
        {
          "output_type": "stream",
          "name": "stdout",
          "text": [
            "<class 'pandas.core.frame.DataFrame'>\n",
            "RangeIndex: 642 entries, 0 to 641\n",
            "Data columns (total 10 columns):\n",
            " #   Column                    Non-Null Count  Dtype  \n",
            "---  ------                    --------------  -----  \n",
            " 0   pregnancies               642 non-null    int64  \n",
            " 1   glucose                   638 non-null    float64\n",
            " 2   bloodpressure             616 non-null    float64\n",
            " 3   skinthickness             455 non-null    float64\n",
            " 4   insulin                   331 non-null    float64\n",
            " 5   diabetespedigreefunction  642 non-null    object \n",
            " 6   weightgroup               642 non-null    object \n",
            " 7   agegroup                  642 non-null    object \n",
            " 8   gender                    642 non-null    object \n",
            " 9   outcome                   642 non-null    int64  \n",
            "dtypes: float64(4), int64(2), object(4)\n",
            "memory usage: 50.3+ KB\n"
          ]
        }
      ]
    },
    {
      "cell_type": "code",
      "source": [
        "dfML.isna().sum()"
      ],
      "metadata": {
        "colab": {
          "base_uri": "https://localhost:8080/"
        },
        "id": "aGXo5ZQpT_Q2",
        "outputId": "2b49ebcd-7915-4009-8996-c93ebb636c71"
      },
      "execution_count": 23,
      "outputs": [
        {
          "output_type": "execute_result",
          "data": {
            "text/plain": [
              "pregnancies                   0\n",
              "glucose                       4\n",
              "bloodpressure                26\n",
              "skinthickness               187\n",
              "insulin                     311\n",
              "diabetespedigreefunction      0\n",
              "weightgroup                   0\n",
              "agegroup                      0\n",
              "gender                        0\n",
              "outcome                       0\n",
              "dtype: int64"
            ]
          },
          "metadata": {},
          "execution_count": 23
        }
      ]
    },
    {
      "cell_type": "code",
      "source": [
        "# Addressing the inconsistencies:\n",
        "\n",
        "dfML['weightgroup'].replace('MISSING', 'missing', inplace =True)\n",
        "\n",
        "dfML['agegroup'].replace('<65', '>65', inplace = True)\n",
        "\n",
        "dfML['gender'].replace('m','M', inplace =True )\n",
        "\n",
        "dfML['diabetespedigreefunction'] = dfML['diabetespedigreefunction'].astype(float)\n",
        "\n",
        "# Check:\n",
        "\n",
        "dfML['weightgroup'].value_counts()\n",
        "\n",
        "dfML['gender'].value_counts()\n",
        "\n",
        "dfML['agegroup'].value_counts()"
      ],
      "metadata": {
        "colab": {
          "base_uri": "https://localhost:8080/"
        },
        "id": "E9JRHRUiVBVk",
        "outputId": "492e22b6-0cd9-478a-9137-ec26b02ebbf5"
      },
      "execution_count": 24,
      "outputs": [
        {
          "output_type": "execute_result",
          "data": {
            "text/plain": [
              "18 - 44    528\n",
              "45 - 64    103\n",
              ">65         11\n",
              "Name: agegroup, dtype: int64"
            ]
          },
          "metadata": {},
          "execution_count": 24
        }
      ]
    },
    {
      "cell_type": "markdown",
      "source": [
        "**ENCODING STRATEGY:**\n",
        "\n",
        "weight group: ordinal \n",
        "\n",
        "age group: nominal \n",
        "\n",
        "gender: nominal \n",
        "\n",
        "weight group is ordinal because there is preference for healthy weight over underweight, and the various levels of obesity. Missing values will be the lowest in the order. \n",
        "\n",
        "gender and age group are nominal as no sex or age takes precedence over the others."
      ],
      "metadata": {
        "id": "r5YW1aGkxt4q"
      }
    },
    {
      "cell_type": "code",
      "source": [
        "# Manual Ordinal Encoding of weight group:\n",
        "\n",
        "dfML['weightgroup'].replace({'missing': 6, 'obsese_3': 5, 'obese_2': 4, 'obese_1' : 3, 'overweight': 2, 'underweight' : 1, 'healthy weight' :0}, inplace =True)\n",
        "\n",
        "dfML['weightgroup'].value_counts()"
      ],
      "metadata": {
        "colab": {
          "base_uri": "https://localhost:8080/"
        },
        "id": "YTcXdD26qYWV",
        "outputId": "570a0cca-634c-468e-c4e4-092f09a66687"
      },
      "execution_count": 25,
      "outputs": [
        {
          "output_type": "execute_result",
          "data": {
            "text/plain": [
              "3    196\n",
              "2    146\n",
              "4    126\n",
              "5     87\n",
              "0     75\n",
              "6      8\n",
              "1      4\n",
              "Name: weightgroup, dtype: int64"
            ]
          },
          "metadata": {},
          "execution_count": 25
        }
      ]
    },
    {
      "cell_type": "markdown",
      "source": [
        "## **VALIDATION SPLIT**"
      ],
      "metadata": {
        "id": "-Yx-zptYVW7H"
      }
    },
    {
      "cell_type": "code",
      "source": [
        "from sklearn.model_selection import train_test_split\n",
        "from sklearn.compose import make_column_selector, make_column_transformer\n",
        "from sklearn.preprocessing import StandardScaler, OneHotEncoder, OrdinalEncoder\n",
        "from sklearn.impute import SimpleImputer\n",
        "from sklearn.pipeline import make_pipeline\n",
        "from sklearn import set_config\n",
        "set_config(display='diagram')\n",
        "\n",
        "# Validation Split \n",
        "\n",
        "X = dfML.drop(columns='outcome')\n",
        "y = dfML['outcome']\n",
        "\n",
        "X_train, X_test, y_train, y_test = train_test_split(X, y, random_state = 42, stratify=y)"
      ],
      "metadata": {
        "id": "Lcvv1CClVVjI"
      },
      "execution_count": 26,
      "outputs": []
    },
    {
      "cell_type": "code",
      "source": [
        "# Datatpye Selectors \n",
        "\n",
        "object_columns = make_column_selector(dtype_include = 'object')\n",
        "object_columns(X_train)"
      ],
      "metadata": {
        "colab": {
          "base_uri": "https://localhost:8080/"
        },
        "id": "VGRWFg63VwDT",
        "outputId": "960a59d3-9c34-44a5-c320-de0c9472ecf6"
      },
      "execution_count": 27,
      "outputs": [
        {
          "output_type": "execute_result",
          "data": {
            "text/plain": [
              "['agegroup', 'gender']"
            ]
          },
          "metadata": {},
          "execution_count": 27
        }
      ]
    },
    {
      "cell_type": "markdown",
      "source": [
        "**ENCODING STRATEGY:**\n",
        "\n",
        "weight group: ordinal \n",
        "\n",
        "age group: nominal \n",
        "\n",
        "gender: nominal \n",
        "\n",
        "weight group is ordinal because there is preference for healthy weight over underweight, and the various levels of obesity. Missing values will be the lowest in the order. \n",
        "\n",
        "gender and age group are nominal as no sex or age takes precedence over the others."
      ],
      "metadata": {
        "id": "FanQ-8ugWLSR"
      }
    },
    {
      "cell_type": "code",
      "source": [
        "dfML['weightgroup'].value_counts()"
      ],
      "metadata": {
        "colab": {
          "base_uri": "https://localhost:8080/"
        },
        "id": "S4__QfDgW-fB",
        "outputId": "c79bf8f4-290c-4f90-a5c6-a1f19487cd5a"
      },
      "execution_count": 28,
      "outputs": [
        {
          "output_type": "execute_result",
          "data": {
            "text/plain": [
              "3    196\n",
              "2    146\n",
              "4    126\n",
              "5     87\n",
              "0     75\n",
              "6      8\n",
              "1      4\n",
              "Name: weightgroup, dtype: int64"
            ]
          },
          "metadata": {},
          "execution_count": 28
        }
      ]
    },
    {
      "cell_type": "code",
      "source": [
        "# Scalars and One Hot Encoding:\n",
        "\n",
        "scaler = StandardScaler()\n",
        "\n",
        "# Ordinal Scaler:\n",
        "\n",
        "scaler2 = StandardScaler()\n",
        "\n",
        "# OHE:\n",
        "\n",
        "OHE = OneHotEncoder(handle_unknown= 'ignore', sparse = False)"
      ],
      "metadata": {
        "id": "fe2rNeSGd3QR"
      },
      "execution_count": 29,
      "outputs": []
    },
    {
      "cell_type": "markdown",
      "source": [
        "**IMPUTATION STRATEGY:**\n",
        "\n",
        "ordinal column (weight group) will be paired with a 'missing' simple imputer. The missing value has been manualled encoded to a 6 so the missing imputer will fill the column with the number 6. \n",
        "\n",
        "nominal columns (gender, age group): will be paired with the most frequent imputer. \n",
        "\n",
        "numeric columns (pregnancies, glucose, blood pressure, skin thickness, insulin, and diabetes pedigree fucntion) will be paired with the mean imputer to address their respective missing values. "
      ],
      "metadata": {
        "id": "HWHaQks1uIZ4"
      }
    },
    {
      "cell_type": "code",
      "source": [
        "# Imputation Strategies: \n",
        "\n",
        "missing_imputer = SimpleImputer(strategy='constant', fill_value= 6)\n",
        "frequent_imputer = SimpleImputer(strategy='most_frequent')\n",
        "mean_imputer = SimpleImputer(strategy = 'mean')"
      ],
      "metadata": {
        "id": "bLNlSVoMeMTN"
      },
      "execution_count": 30,
      "outputs": []
    },
    {
      "cell_type": "code",
      "source": [
        "# Column / Feature separation:\n",
        "\n",
        "ordinal_columns = ['weightgroup']\n",
        "nominal_columns = ['gender', 'agegroup']\n",
        "numeric_columns = make_column_selector(dtype_include = 'number')"
      ],
      "metadata": {
        "id": "jbbyl46weUfB"
      },
      "execution_count": 31,
      "outputs": []
    },
    {
      "cell_type": "code",
      "source": [
        "from pandas.core.arrays import numeric\n",
        "# Creating pipelines:\n",
        "\n",
        "ordinal_pipe = make_pipeline(missing_imputer, scaler2)\n",
        "nominal_pipe = make_pipeline(frequent_imputer, OHE)\n",
        "numeric_pipe = make_pipeline(mean_imputer, scaler)\n",
        "\n",
        "# Creating Tuples:\n",
        "\n",
        "ordinal_tuple = (ordinal_pipe, ordinal_columns)\n",
        "nominal_tuple = (nominal_pipe, nominal_columns)\n",
        "numeric_tuple = (numeric_pipe, numeric_columns)"
      ],
      "metadata": {
        "id": "5n-U83nSe4rT"
      },
      "execution_count": 32,
      "outputs": []
    },
    {
      "cell_type": "code",
      "source": [
        "# Column Transfromer:\n",
        "\n",
        "preprocessor = make_column_transformer(ordinal_tuple, nominal_tuple, numeric_tuple, remainder = 'passthrough')\n",
        "preprocessor"
      ],
      "metadata": {
        "colab": {
          "base_uri": "https://localhost:8080/",
          "height": 153
        },
        "id": "hV70urVtgPjM",
        "outputId": "f674d339-781e-4c31-f3b5-d9946893c692"
      },
      "execution_count": 33,
      "outputs": [
        {
          "output_type": "execute_result",
          "data": {
            "text/plain": [
              "ColumnTransformer(remainder='passthrough',\n",
              "                  transformers=[('pipeline-1',\n",
              "                                 Pipeline(steps=[('simpleimputer',\n",
              "                                                  SimpleImputer(fill_value=6,\n",
              "                                                                strategy='constant')),\n",
              "                                                 ('standardscaler',\n",
              "                                                  StandardScaler())]),\n",
              "                                 ['weightgroup']),\n",
              "                                ('pipeline-2',\n",
              "                                 Pipeline(steps=[('simpleimputer',\n",
              "                                                  SimpleImputer(strategy='most_frequent')),\n",
              "                                                 ('onehotencoder',\n",
              "                                                  OneHotEncoder(handle_unknown='ignore',\n",
              "                                                                sparse=False))]),\n",
              "                                 ['gender', 'agegroup']),\n",
              "                                ('pipeline-3',\n",
              "                                 Pipeline(steps=[('simpleimputer',\n",
              "                                                  SimpleImputer()),\n",
              "                                                 ('standardscaler',\n",
              "                                                  StandardScaler())]),\n",
              "                                 <sklearn.compose._column_transformer.make_column_selector object at 0x7f48b1ad15e0>)])"
            ],
            "text/html": [
              "<style>#sk-fe08c37c-05d6-4d66-acc8-7001362201e1 {color: black;background-color: white;}#sk-fe08c37c-05d6-4d66-acc8-7001362201e1 pre{padding: 0;}#sk-fe08c37c-05d6-4d66-acc8-7001362201e1 div.sk-toggleable {background-color: white;}#sk-fe08c37c-05d6-4d66-acc8-7001362201e1 label.sk-toggleable__label {cursor: pointer;display: block;width: 100%;margin-bottom: 0;padding: 0.3em;box-sizing: border-box;text-align: center;}#sk-fe08c37c-05d6-4d66-acc8-7001362201e1 label.sk-toggleable__label-arrow:before {content: \"▸\";float: left;margin-right: 0.25em;color: #696969;}#sk-fe08c37c-05d6-4d66-acc8-7001362201e1 label.sk-toggleable__label-arrow:hover:before {color: black;}#sk-fe08c37c-05d6-4d66-acc8-7001362201e1 div.sk-estimator:hover label.sk-toggleable__label-arrow:before {color: black;}#sk-fe08c37c-05d6-4d66-acc8-7001362201e1 div.sk-toggleable__content {max-height: 0;max-width: 0;overflow: hidden;text-align: left;background-color: #f0f8ff;}#sk-fe08c37c-05d6-4d66-acc8-7001362201e1 div.sk-toggleable__content pre {margin: 0.2em;color: black;border-radius: 0.25em;background-color: #f0f8ff;}#sk-fe08c37c-05d6-4d66-acc8-7001362201e1 input.sk-toggleable__control:checked~div.sk-toggleable__content {max-height: 200px;max-width: 100%;overflow: auto;}#sk-fe08c37c-05d6-4d66-acc8-7001362201e1 input.sk-toggleable__control:checked~label.sk-toggleable__label-arrow:before {content: \"▾\";}#sk-fe08c37c-05d6-4d66-acc8-7001362201e1 div.sk-estimator input.sk-toggleable__control:checked~label.sk-toggleable__label {background-color: #d4ebff;}#sk-fe08c37c-05d6-4d66-acc8-7001362201e1 div.sk-label input.sk-toggleable__control:checked~label.sk-toggleable__label {background-color: #d4ebff;}#sk-fe08c37c-05d6-4d66-acc8-7001362201e1 input.sk-hidden--visually {border: 0;clip: rect(1px 1px 1px 1px);clip: rect(1px, 1px, 1px, 1px);height: 1px;margin: -1px;overflow: hidden;padding: 0;position: absolute;width: 1px;}#sk-fe08c37c-05d6-4d66-acc8-7001362201e1 div.sk-estimator {font-family: monospace;background-color: #f0f8ff;border: 1px dotted black;border-radius: 0.25em;box-sizing: border-box;margin-bottom: 0.5em;}#sk-fe08c37c-05d6-4d66-acc8-7001362201e1 div.sk-estimator:hover {background-color: #d4ebff;}#sk-fe08c37c-05d6-4d66-acc8-7001362201e1 div.sk-parallel-item::after {content: \"\";width: 100%;border-bottom: 1px solid gray;flex-grow: 1;}#sk-fe08c37c-05d6-4d66-acc8-7001362201e1 div.sk-label:hover label.sk-toggleable__label {background-color: #d4ebff;}#sk-fe08c37c-05d6-4d66-acc8-7001362201e1 div.sk-serial::before {content: \"\";position: absolute;border-left: 1px solid gray;box-sizing: border-box;top: 2em;bottom: 0;left: 50%;}#sk-fe08c37c-05d6-4d66-acc8-7001362201e1 div.sk-serial {display: flex;flex-direction: column;align-items: center;background-color: white;padding-right: 0.2em;padding-left: 0.2em;}#sk-fe08c37c-05d6-4d66-acc8-7001362201e1 div.sk-item {z-index: 1;}#sk-fe08c37c-05d6-4d66-acc8-7001362201e1 div.sk-parallel {display: flex;align-items: stretch;justify-content: center;background-color: white;}#sk-fe08c37c-05d6-4d66-acc8-7001362201e1 div.sk-parallel::before {content: \"\";position: absolute;border-left: 1px solid gray;box-sizing: border-box;top: 2em;bottom: 0;left: 50%;}#sk-fe08c37c-05d6-4d66-acc8-7001362201e1 div.sk-parallel-item {display: flex;flex-direction: column;position: relative;background-color: white;}#sk-fe08c37c-05d6-4d66-acc8-7001362201e1 div.sk-parallel-item:first-child::after {align-self: flex-end;width: 50%;}#sk-fe08c37c-05d6-4d66-acc8-7001362201e1 div.sk-parallel-item:last-child::after {align-self: flex-start;width: 50%;}#sk-fe08c37c-05d6-4d66-acc8-7001362201e1 div.sk-parallel-item:only-child::after {width: 0;}#sk-fe08c37c-05d6-4d66-acc8-7001362201e1 div.sk-dashed-wrapped {border: 1px dashed gray;margin: 0 0.4em 0.5em 0.4em;box-sizing: border-box;padding-bottom: 0.4em;background-color: white;position: relative;}#sk-fe08c37c-05d6-4d66-acc8-7001362201e1 div.sk-label label {font-family: monospace;font-weight: bold;background-color: white;display: inline-block;line-height: 1.2em;}#sk-fe08c37c-05d6-4d66-acc8-7001362201e1 div.sk-label-container {position: relative;z-index: 2;text-align: center;}#sk-fe08c37c-05d6-4d66-acc8-7001362201e1 div.sk-container {/* jupyter's `normalize.less` sets `[hidden] { display: none; }` but bootstrap.min.css set `[hidden] { display: none !important; }` so we also need the `!important` here to be able to override the default hidden behavior on the sphinx rendered scikit-learn.org. See: https://github.com/scikit-learn/scikit-learn/issues/21755 */display: inline-block !important;position: relative;}#sk-fe08c37c-05d6-4d66-acc8-7001362201e1 div.sk-text-repr-fallback {display: none;}</style><div id=\"sk-fe08c37c-05d6-4d66-acc8-7001362201e1\" class=\"sk-top-container\"><div class=\"sk-text-repr-fallback\"><pre>ColumnTransformer(remainder=&#x27;passthrough&#x27;,\n",
              "                  transformers=[(&#x27;pipeline-1&#x27;,\n",
              "                                 Pipeline(steps=[(&#x27;simpleimputer&#x27;,\n",
              "                                                  SimpleImputer(fill_value=6,\n",
              "                                                                strategy=&#x27;constant&#x27;)),\n",
              "                                                 (&#x27;standardscaler&#x27;,\n",
              "                                                  StandardScaler())]),\n",
              "                                 [&#x27;weightgroup&#x27;]),\n",
              "                                (&#x27;pipeline-2&#x27;,\n",
              "                                 Pipeline(steps=[(&#x27;simpleimputer&#x27;,\n",
              "                                                  SimpleImputer(strategy=&#x27;most_frequent&#x27;)),\n",
              "                                                 (&#x27;onehotencoder&#x27;,\n",
              "                                                  OneHotEncoder(handle_unknown=&#x27;ignore&#x27;,\n",
              "                                                                sparse=False))]),\n",
              "                                 [&#x27;gender&#x27;, &#x27;agegroup&#x27;]),\n",
              "                                (&#x27;pipeline-3&#x27;,\n",
              "                                 Pipeline(steps=[(&#x27;simpleimputer&#x27;,\n",
              "                                                  SimpleImputer()),\n",
              "                                                 (&#x27;standardscaler&#x27;,\n",
              "                                                  StandardScaler())]),\n",
              "                                 &lt;sklearn.compose._column_transformer.make_column_selector object at 0x7f48b1ad15e0&gt;)])</pre><b>Please rerun this cell to show the HTML repr or trust the notebook.</b></div><div class=\"sk-container\" hidden><div class=\"sk-item sk-dashed-wrapped\"><div class=\"sk-label-container\"><div class=\"sk-label sk-toggleable\"><input class=\"sk-toggleable__control sk-hidden--visually\" id=\"27a85eb9-dc5d-4982-adbb-74d0f3f72788\" type=\"checkbox\" ><label for=\"27a85eb9-dc5d-4982-adbb-74d0f3f72788\" class=\"sk-toggleable__label sk-toggleable__label-arrow\">ColumnTransformer</label><div class=\"sk-toggleable__content\"><pre>ColumnTransformer(remainder=&#x27;passthrough&#x27;,\n",
              "                  transformers=[(&#x27;pipeline-1&#x27;,\n",
              "                                 Pipeline(steps=[(&#x27;simpleimputer&#x27;,\n",
              "                                                  SimpleImputer(fill_value=6,\n",
              "                                                                strategy=&#x27;constant&#x27;)),\n",
              "                                                 (&#x27;standardscaler&#x27;,\n",
              "                                                  StandardScaler())]),\n",
              "                                 [&#x27;weightgroup&#x27;]),\n",
              "                                (&#x27;pipeline-2&#x27;,\n",
              "                                 Pipeline(steps=[(&#x27;simpleimputer&#x27;,\n",
              "                                                  SimpleImputer(strategy=&#x27;most_frequent&#x27;)),\n",
              "                                                 (&#x27;onehotencoder&#x27;,\n",
              "                                                  OneHotEncoder(handle_unknown=&#x27;ignore&#x27;,\n",
              "                                                                sparse=False))]),\n",
              "                                 [&#x27;gender&#x27;, &#x27;agegroup&#x27;]),\n",
              "                                (&#x27;pipeline-3&#x27;,\n",
              "                                 Pipeline(steps=[(&#x27;simpleimputer&#x27;,\n",
              "                                                  SimpleImputer()),\n",
              "                                                 (&#x27;standardscaler&#x27;,\n",
              "                                                  StandardScaler())]),\n",
              "                                 &lt;sklearn.compose._column_transformer.make_column_selector object at 0x7f48b1ad15e0&gt;)])</pre></div></div></div><div class=\"sk-parallel\"><div class=\"sk-parallel-item\"><div class=\"sk-item\"><div class=\"sk-label-container\"><div class=\"sk-label sk-toggleable\"><input class=\"sk-toggleable__control sk-hidden--visually\" id=\"f718ab5d-5cd0-4360-97bc-20aa0b930665\" type=\"checkbox\" ><label for=\"f718ab5d-5cd0-4360-97bc-20aa0b930665\" class=\"sk-toggleable__label sk-toggleable__label-arrow\">pipeline-1</label><div class=\"sk-toggleable__content\"><pre>[&#x27;weightgroup&#x27;]</pre></div></div></div><div class=\"sk-serial\"><div class=\"sk-item\"><div class=\"sk-serial\"><div class=\"sk-item\"><div class=\"sk-estimator sk-toggleable\"><input class=\"sk-toggleable__control sk-hidden--visually\" id=\"26018323-bbb4-499a-8e83-69b42d5d675e\" type=\"checkbox\" ><label for=\"26018323-bbb4-499a-8e83-69b42d5d675e\" class=\"sk-toggleable__label sk-toggleable__label-arrow\">SimpleImputer</label><div class=\"sk-toggleable__content\"><pre>SimpleImputer(fill_value=6, strategy=&#x27;constant&#x27;)</pre></div></div></div><div class=\"sk-item\"><div class=\"sk-estimator sk-toggleable\"><input class=\"sk-toggleable__control sk-hidden--visually\" id=\"a8c6743d-d18d-44ce-a38a-d4a15886a189\" type=\"checkbox\" ><label for=\"a8c6743d-d18d-44ce-a38a-d4a15886a189\" class=\"sk-toggleable__label sk-toggleable__label-arrow\">StandardScaler</label><div class=\"sk-toggleable__content\"><pre>StandardScaler()</pre></div></div></div></div></div></div></div></div><div class=\"sk-parallel-item\"><div class=\"sk-item\"><div class=\"sk-label-container\"><div class=\"sk-label sk-toggleable\"><input class=\"sk-toggleable__control sk-hidden--visually\" id=\"ad26b8cd-c0b1-443c-82a3-291425c73072\" type=\"checkbox\" ><label for=\"ad26b8cd-c0b1-443c-82a3-291425c73072\" class=\"sk-toggleable__label sk-toggleable__label-arrow\">pipeline-2</label><div class=\"sk-toggleable__content\"><pre>[&#x27;gender&#x27;, &#x27;agegroup&#x27;]</pre></div></div></div><div class=\"sk-serial\"><div class=\"sk-item\"><div class=\"sk-serial\"><div class=\"sk-item\"><div class=\"sk-estimator sk-toggleable\"><input class=\"sk-toggleable__control sk-hidden--visually\" id=\"ad57c2b0-9903-4442-ba0a-619002c9b305\" type=\"checkbox\" ><label for=\"ad57c2b0-9903-4442-ba0a-619002c9b305\" class=\"sk-toggleable__label sk-toggleable__label-arrow\">SimpleImputer</label><div class=\"sk-toggleable__content\"><pre>SimpleImputer(strategy=&#x27;most_frequent&#x27;)</pre></div></div></div><div class=\"sk-item\"><div class=\"sk-estimator sk-toggleable\"><input class=\"sk-toggleable__control sk-hidden--visually\" id=\"2e8d7f85-c023-4a4a-9ee9-638e1e73f454\" type=\"checkbox\" ><label for=\"2e8d7f85-c023-4a4a-9ee9-638e1e73f454\" class=\"sk-toggleable__label sk-toggleable__label-arrow\">OneHotEncoder</label><div class=\"sk-toggleable__content\"><pre>OneHotEncoder(handle_unknown=&#x27;ignore&#x27;, sparse=False)</pre></div></div></div></div></div></div></div></div><div class=\"sk-parallel-item\"><div class=\"sk-item\"><div class=\"sk-label-container\"><div class=\"sk-label sk-toggleable\"><input class=\"sk-toggleable__control sk-hidden--visually\" id=\"6c31a4f1-5450-4d3b-89ce-d9f6aa9b0523\" type=\"checkbox\" ><label for=\"6c31a4f1-5450-4d3b-89ce-d9f6aa9b0523\" class=\"sk-toggleable__label sk-toggleable__label-arrow\">pipeline-3</label><div class=\"sk-toggleable__content\"><pre>&lt;sklearn.compose._column_transformer.make_column_selector object at 0x7f48b1ad15e0&gt;</pre></div></div></div><div class=\"sk-serial\"><div class=\"sk-item\"><div class=\"sk-serial\"><div class=\"sk-item\"><div class=\"sk-estimator sk-toggleable\"><input class=\"sk-toggleable__control sk-hidden--visually\" id=\"2737f612-910f-4df8-88b4-3f7ff13ee682\" type=\"checkbox\" ><label for=\"2737f612-910f-4df8-88b4-3f7ff13ee682\" class=\"sk-toggleable__label sk-toggleable__label-arrow\">SimpleImputer</label><div class=\"sk-toggleable__content\"><pre>SimpleImputer()</pre></div></div></div><div class=\"sk-item\"><div class=\"sk-estimator sk-toggleable\"><input class=\"sk-toggleable__control sk-hidden--visually\" id=\"05fd386a-16cf-4e3e-a39a-004d5197dd32\" type=\"checkbox\" ><label for=\"05fd386a-16cf-4e3e-a39a-004d5197dd32\" class=\"sk-toggleable__label sk-toggleable__label-arrow\">StandardScaler</label><div class=\"sk-toggleable__content\"><pre>StandardScaler()</pre></div></div></div></div></div></div></div></div><div class=\"sk-parallel-item\"><div class=\"sk-item\"><div class=\"sk-label-container\"><div class=\"sk-label sk-toggleable\"><input class=\"sk-toggleable__control sk-hidden--visually\" id=\"69b29f9c-420d-4f45-af4c-10228a2ff200\" type=\"checkbox\" ><label for=\"69b29f9c-420d-4f45-af4c-10228a2ff200\" class=\"sk-toggleable__label sk-toggleable__label-arrow\">remainder</label><div class=\"sk-toggleable__content\"><pre></pre></div></div></div><div class=\"sk-serial\"><div class=\"sk-item\"><div class=\"sk-estimator sk-toggleable\"><input class=\"sk-toggleable__control sk-hidden--visually\" id=\"bc9fb15e-fa38-46f8-9d30-0a36d9beb15b\" type=\"checkbox\" ><label for=\"bc9fb15e-fa38-46f8-9d30-0a36d9beb15b\" class=\"sk-toggleable__label sk-toggleable__label-arrow\">passthrough</label><div class=\"sk-toggleable__content\"><pre>passthrough</pre></div></div></div></div></div></div></div></div></div></div>"
            ]
          },
          "metadata": {},
          "execution_count": 33
        }
      ]
    },
    {
      "cell_type": "code",
      "source": [
        "dfML.info()"
      ],
      "metadata": {
        "colab": {
          "base_uri": "https://localhost:8080/"
        },
        "id": "QPuI04zylqU-",
        "outputId": "3bc8cdc9-665a-456d-de93-a68477299a2b"
      },
      "execution_count": 34,
      "outputs": [
        {
          "output_type": "stream",
          "name": "stdout",
          "text": [
            "<class 'pandas.core.frame.DataFrame'>\n",
            "RangeIndex: 642 entries, 0 to 641\n",
            "Data columns (total 10 columns):\n",
            " #   Column                    Non-Null Count  Dtype  \n",
            "---  ------                    --------------  -----  \n",
            " 0   pregnancies               642 non-null    int64  \n",
            " 1   glucose                   638 non-null    float64\n",
            " 2   bloodpressure             616 non-null    float64\n",
            " 3   skinthickness             455 non-null    float64\n",
            " 4   insulin                   331 non-null    float64\n",
            " 5   diabetespedigreefunction  642 non-null    float64\n",
            " 6   weightgroup               642 non-null    int64  \n",
            " 7   agegroup                  642 non-null    object \n",
            " 8   gender                    642 non-null    object \n",
            " 9   outcome                   642 non-null    int64  \n",
            "dtypes: float64(5), int64(3), object(2)\n",
            "memory usage: 50.3+ KB\n"
          ]
        }
      ]
    },
    {
      "cell_type": "markdown",
      "source": [
        "## **MODELING**"
      ],
      "metadata": {
        "id": "WrGZbM_SgsYH"
      }
    },
    {
      "cell_type": "markdown",
      "source": [
        "Our target 'outcome' has two options or classe: Diabetes (0 = no, 1 = yes) (target). This is a Binary Classification problem. "
      ],
      "metadata": {
        "id": "f6w1SpQHg1Mg"
      }
    },
    {
      "cell_type": "code",
      "source": [
        "X_train.shape"
      ],
      "metadata": {
        "colab": {
          "base_uri": "https://localhost:8080/"
        },
        "id": "2xQvRtFCi7__",
        "outputId": "34289143-f18a-46b8-9902-a605a1deb083"
      },
      "execution_count": 35,
      "outputs": [
        {
          "output_type": "execute_result",
          "data": {
            "text/plain": [
              "(481, 9)"
            ]
          },
          "metadata": {},
          "execution_count": 35
        }
      ]
    },
    {
      "cell_type": "code",
      "source": [
        "y_train.shape"
      ],
      "metadata": {
        "colab": {
          "base_uri": "https://localhost:8080/"
        },
        "id": "Gf_4jV1gi_B6",
        "outputId": "c07be80b-8a76-4274-a2c3-c38ce0d0a1a6"
      },
      "execution_count": 36,
      "outputs": [
        {
          "output_type": "execute_result",
          "data": {
            "text/plain": [
              "(481,)"
            ]
          },
          "metadata": {},
          "execution_count": 36
        }
      ]
    },
    {
      "cell_type": "code",
      "source": [
        "# Checking class balance:\n",
        "\n",
        "y_train.value_counts(normalize = True)"
      ],
      "metadata": {
        "colab": {
          "base_uri": "https://localhost:8080/"
        },
        "id": "CeFBkuhXgwAm",
        "outputId": "f2b01605-56b2-4c36-a5bb-3cb68d7d7536"
      },
      "execution_count": 37,
      "outputs": [
        {
          "output_type": "execute_result",
          "data": {
            "text/plain": [
              "0    0.577963\n",
              "1    0.422037\n",
              "Name: outcome, dtype: float64"
            ]
          },
          "metadata": {},
          "execution_count": 37
        }
      ]
    },
    {
      "cell_type": "markdown",
      "source": [
        "### CLASS BALANCE:\n",
        "\n",
        "0:        57.80 %\n",
        "\n",
        "1:        42.20 %"
      ],
      "metadata": {
        "id": "6YGvIOZ4hzyx"
      }
    },
    {
      "cell_type": "markdown",
      "source": [
        "### **FIRST MODEL: BASIC DECISION TREE**"
      ],
      "metadata": {
        "id": "FiattFo766Hf"
      }
    },
    {
      "cell_type": "code",
      "source": [
        "from sklearn.metrics import accuracy_score, classification_report, confusion_matrix, ConfusionMatrixDisplay\n",
        "from sklearn.neighbors import KNeighborsClassifier\n",
        "from sklearn.tree import DecisionTreeClassifier\n",
        "from sklearn.model_selection import GridSearchCV\n",
        "\n",
        "# Default Decision Tree Model:\n",
        "\n",
        "DT = DecisionTreeClassifier(random_state = 42)\n",
        "\n",
        "DT_pipe = make_pipeline(preprocessor, DT)\n",
        "\n",
        "# Fitting the Data:\n",
        "\n",
        "DT_pipe.fit(X_train, y_train)\n",
        "\n",
        "# Predicitons:\n",
        "\n",
        "DT_train_pred = DT_pipe.predict(X_train)\n",
        "DT_test_pred = DT_pipe.predict(X_test)\n",
        "\n",
        "# Model Score Evaluation:\n",
        "\n",
        "print('Default Decision Tree Training Scores')\n",
        "print(classification_report(y_train, DT_train_pred))\n",
        "print('Default Decision Test Scores')\n",
        "print(classification_report(y_test, DT_test_pred))\n"
      ],
      "metadata": {
        "colab": {
          "base_uri": "https://localhost:8080/"
        },
        "id": "TkqF48N5hyEM",
        "outputId": "aae25b64-beb4-474f-deab-4fe928183714"
      },
      "execution_count": 38,
      "outputs": [
        {
          "output_type": "stream",
          "name": "stdout",
          "text": [
            "Default Decision Tree Training Scores\n",
            "              precision    recall  f1-score   support\n",
            "\n",
            "           0       1.00      1.00      1.00       278\n",
            "           1       1.00      1.00      1.00       203\n",
            "\n",
            "    accuracy                           1.00       481\n",
            "   macro avg       1.00      1.00      1.00       481\n",
            "weighted avg       1.00      1.00      1.00       481\n",
            "\n",
            "Default Decision Test Scores\n",
            "              precision    recall  f1-score   support\n",
            "\n",
            "           0       0.69      0.71      0.70        93\n",
            "           1       0.58      0.56      0.57        68\n",
            "\n",
            "    accuracy                           0.65       161\n",
            "   macro avg       0.64      0.63      0.63       161\n",
            "weighted avg       0.64      0.65      0.64       161\n",
            "\n"
          ]
        }
      ]
    },
    {
      "cell_type": "code",
      "source": [
        "# Confusion Matrix:\n",
        "\n",
        "DTcm = confusion_matrix(y_test.values, DT_test_pred)\n",
        "\n",
        "fig, axes = plt.subplots(1, 1, figsize=(6,6), dpi=100);\n",
        "sns.heatmap(DTcm, cmap='mako', ax=axes, annot=True);\n",
        "axes.set_title('Test Model Confusion Matrix\\n');"
      ],
      "metadata": {
        "id": "9zNI0haTkj9o",
        "colab": {
          "base_uri": "https://localhost:8080/",
          "height": 556
        },
        "outputId": "b7a9d788-eecd-49b5-f0eb-ea7689158325"
      },
      "execution_count": 39,
      "outputs": [
        {
          "output_type": "display_data",
          "data": {
            "text/plain": [
              "<Figure size 600x600 with 2 Axes>"
            ],
            "image/png": "[encoded data removed]"
          },
          "metadata": {
            "needs_background": "light"
          }
        }
      ]
    },
    {
      "cell_type": "markdown",
      "source": [
        "True Positives: 38\n",
        "\n",
        "True Negatives: 70\n",
        "\n",
        "False Positives: 23\n",
        "\n",
        "False Negatives: 30"
      ],
      "metadata": {
        "id": "gXTP-OuFwt5m"
      }
    },
    {
      "cell_type": "code",
      "source": [
        "print('Test Model Percentage Confusion Matrix\\n')\n",
        "ConfusionMatrixDisplay.from_predictions(y_test, DT_test_pred, cmap='magma', normalize = 'true');"
      ],
      "metadata": {
        "colab": {
          "base_uri": "https://localhost:8080/",
          "height": 315
        },
        "id": "3mslG_S7xRlc",
        "outputId": "e73dd460-d003-4597-c6fb-07c82bbc59e2"
      },
      "execution_count": 40,
      "outputs": [
        {
          "output_type": "stream",
          "name": "stdout",
          "text": [
            "Test Model Percentage Confusion Matrix\n",
            "\n"
          ]
        },
        {
          "output_type": "display_data",
          "data": {
            "text/plain": [
              "<Figure size 432x288 with 2 Axes>"
            ],
            "image/png": "[encoded data removed]"
          },
          "metadata": {
            "needs_background": "light"
          }
        }
      ]
    },
    {
      "cell_type": "code",
      "source": [
        "# Checking model documentation for available hyperparameters:\n",
        "\n",
        "DT.get_params()"
      ],
      "metadata": {
        "colab": {
          "base_uri": "https://localhost:8080/"
        },
        "id": "iWglFI83xtyD",
        "outputId": "c1390458-08bd-4f27-f0df-0cdaa2de8cf0"
      },
      "execution_count": 41,
      "outputs": [
        {
          "output_type": "execute_result",
          "data": {
            "text/plain": [
              "{'ccp_alpha': 0.0,\n",
              " 'class_weight': None,\n",
              " 'criterion': 'gini',\n",
              " 'max_depth': None,\n",
              " 'max_features': None,\n",
              " 'max_leaf_nodes': None,\n",
              " 'min_impurity_decrease': 0.0,\n",
              " 'min_samples_leaf': 1,\n",
              " 'min_samples_split': 2,\n",
              " 'min_weight_fraction_leaf': 0.0,\n",
              " 'random_state': 42,\n",
              " 'splitter': 'best'}"
            ]
          },
          "metadata": {},
          "execution_count": 41
        }
      ]
    },
    {
      "cell_type": "code",
      "source": [
        "# Default Decision Tree Model:\n",
        "\n",
        "DT2 = DecisionTreeClassifier(max_leaf_nodes = 2, max_depth = 5, \n",
        "                             min_samples_split = 6, random_state = 42)\n",
        "\n",
        "DT2_pipe = make_pipeline(preprocessor, DT2)\n",
        "\n",
        "# Fitting the Data:\n",
        "\n",
        "DT2_pipe.fit(X_train, y_train)\n",
        "\n",
        "# Predicitons:\n",
        "\n",
        "DT2_train_pred = DT2_pipe.predict(X_train)\n",
        "DT2_test_pred = DT2_pipe.predict(X_test)\n",
        "\n",
        "# Model Score Evaluation:\n",
        "\n",
        "print('Second Decision Tree Model Training Scores')\n",
        "print(classification_report(y_train, DT2_train_pred))\n",
        "print('Second Decision Tree Model Test Scores')\n",
        "print(classification_report(y_test, DT2_test_pred))\n"
      ],
      "metadata": {
        "colab": {
          "base_uri": "https://localhost:8080/"
        },
        "id": "fsde4POCx6uU",
        "outputId": "87dbb1b6-5e9a-4441-e207-9530da87bc15"
      },
      "execution_count": 42,
      "outputs": [
        {
          "output_type": "stream",
          "name": "stdout",
          "text": [
            "Second Decision Tree Model Training Scores\n",
            "              precision    recall  f1-score   support\n",
            "\n",
            "           0       0.71      0.92      0.80       278\n",
            "           1       0.81      0.47      0.60       203\n",
            "\n",
            "    accuracy                           0.73       481\n",
            "   macro avg       0.76      0.70      0.70       481\n",
            "weighted avg       0.75      0.73      0.71       481\n",
            "\n",
            "Second Decision Tree Model Test Scores\n",
            "              precision    recall  f1-score   support\n",
            "\n",
            "           0       0.67      0.90      0.77        93\n",
            "           1       0.75      0.40      0.52        68\n",
            "\n",
            "    accuracy                           0.69       161\n",
            "   macro avg       0.71      0.65      0.64       161\n",
            "weighted avg       0.70      0.69      0.66       161\n",
            "\n"
          ]
        }
      ]
    },
    {
      "cell_type": "code",
      "source": [
        "print('Confusion Matrix for Second Decision Tree Model\\n')\n",
        "\n",
        "ConfusionMatrixDisplay.from_predictions(y_test, DT2_test_pred);"
      ],
      "metadata": {
        "colab": {
          "base_uri": "https://localhost:8080/",
          "height": 315
        },
        "id": "zTlfpi1kNbn9",
        "outputId": "4f64448c-2d03-4615-f24a-3ea6b2fbb37b"
      },
      "execution_count": 43,
      "outputs": [
        {
          "output_type": "stream",
          "name": "stdout",
          "text": [
            "Confusion Matrix for Second Decision Tree Model\n",
            "\n"
          ]
        },
        {
          "output_type": "display_data",
          "data": {
            "text/plain": [
              "<Figure size 432x288 with 2 Axes>"
            ],
            "image/png": "[encoded data removed]"
          },
          "metadata": {
            "needs_background": "light"
          }
        }
      ]
    },
    {
      "cell_type": "markdown",
      "source": [
        "True Positives: 27\n",
        "\n",
        "True Negatives: 84\n",
        "\n",
        "False Positives: 9\n",
        "\n",
        "False Negatives: 41"
      ],
      "metadata": {
        "id": "P9uRVdN0Nm50"
      }
    },
    {
      "cell_type": "code",
      "source": [
        "# Best Decision Tree Model with tuned hyperparameters:\n",
        "\n",
        "# List of hyperparameters that will be tuned:\n",
        "md_val = []       # max_depth\n",
        "ln_val = []       # max_leaf_nodes\n",
        "mss_val = []      # min_samples_split\n",
        "accscore = []     # accuracy score\n",
        "\n",
        "# Loop to interate through hyperparameters:\n",
        "\n",
        "for md in range(1,10):\n",
        "  for ln in range(8,10):\n",
        "    for mss in range(8,10):\n",
        "\n",
        "      # Model Instantiation:\n",
        "      BDT = DecisionTreeClassifier(max_depth = md, \n",
        "                                   max_leaf_nodes = ln, min_samples_split = mss)\n",
        "      # Pipeline & Fit:\n",
        "      BDT_pipe = make_pipeline(preprocessor, BDT)\n",
        "      BDT_pipe.fit(X_train, y_train)\n",
        "      test_score = BDT_pipe.score(X_test, y_test)\n",
        "\n",
        "      # Adding test scores to the list:\n",
        "      md_val.append(md)\n",
        "      ln_val.append(ln)\n",
        "      mss_val.append(mss)\n",
        "      accscore.append(test_score)"
      ],
      "metadata": {
        "id": "VKItkkCEzYeY"
      },
      "execution_count": 44,
      "outputs": []
    },
    {
      "cell_type": "code",
      "source": [
        "# Test Score Data Frame:\n",
        "\n",
        "accuracydf = pd.DataFrame()\n",
        "accuracydf['max_depth'] = md_val\n",
        "accuracydf['max_leaf_nodes'] = ln_val\n",
        "accuracydf['min_samples_split'] = mss_val\n",
        "accuracydf['accuracy_score'] = accscore\n",
        "\n",
        "accuracydf.head()"
      ],
      "metadata": {
        "colab": {
          "base_uri": "https://localhost:8080/",
          "height": 206
        },
        "id": "7h7aDKbTzk34",
        "outputId": "70e37b3f-cf46-4ee5-d6c6-30f343a30bbd"
      },
      "execution_count": 45,
      "outputs": [
        {
          "output_type": "execute_result",
          "data": {
            "text/plain": [
              "   max_depth  max_leaf_nodes  min_samples_split  accuracy_score\n",
              "0          1               8                  8        0.689441\n",
              "1          1               8                  9        0.689441\n",
              "2          1               9                  8        0.689441\n",
              "3          1               9                  9        0.689441\n",
              "4          2               8                  8        0.689441"
            ],
            "text/html": [
              "\n",
              "  <div id=\"df-d0bf0b37-3f71-4f72-897c-333291f9714e\">\n",
              "    <div class=\"colab-df-container\">\n",
              "      <div>\n",
              "<style scoped>\n",
              "    .dataframe tbody tr th:only-of-type {\n",
              "        vertical-align: middle;\n",
              "    }\n",
              "\n",
              "    .dataframe tbody tr th {\n",
              "        vertical-align: top;\n",
              "    }\n",
              "\n",
              "    .dataframe thead th {\n",
              "        text-align: right;\n",
              "    }\n",
              "</style>\n",
              "<table border=\"1\" class=\"dataframe\">\n",
              "  <thead>\n",
              "    <tr style=\"text-align: right;\">\n",
              "      <th></th>\n",
              "      <th>max_depth</th>\n",
              "      <th>max_leaf_nodes</th>\n",
              "      <th>min_samples_split</th>\n",
              "      <th>accuracy_score</th>\n",
              "    </tr>\n",
              "  </thead>\n",
              "  <tbody>\n",
              "    <tr>\n",
              "      <th>0</th>\n",
              "      <td>1</td>\n",
              "      <td>8</td>\n",
              "      <td>8</td>\n",
              "      <td>0.689441</td>\n",
              "    </tr>\n",
              "    <tr>\n",
              "      <th>1</th>\n",
              "      <td>1</td>\n",
              "      <td>8</td>\n",
              "      <td>9</td>\n",
              "      <td>0.689441</td>\n",
              "    </tr>\n",
              "    <tr>\n",
              "      <th>2</th>\n",
              "      <td>1</td>\n",
              "      <td>9</td>\n",
              "      <td>8</td>\n",
              "      <td>0.689441</td>\n",
              "    </tr>\n",
              "    <tr>\n",
              "      <th>3</th>\n",
              "      <td>1</td>\n",
              "      <td>9</td>\n",
              "      <td>9</td>\n",
              "      <td>0.689441</td>\n",
              "    </tr>\n",
              "    <tr>\n",
              "      <th>4</th>\n",
              "      <td>2</td>\n",
              "      <td>8</td>\n",
              "      <td>8</td>\n",
              "      <td>0.689441</td>\n",
              "    </tr>\n",
              "  </tbody>\n",
              "</table>\n",
              "</div>\n",
              "      <button class=\"colab-df-convert\" onclick=\"convertToInteractive('df-d0bf0b37-3f71-4f72-897c-333291f9714e')\"\n",
              "              title=\"Convert this dataframe to an interactive table.\"\n",
              "              style=\"display:none;\">\n",
              "        \n",
              "  <svg xmlns=\"http://www.w3.org/2000/svg\" height=\"24px\"viewBox=\"0 0 24 24\"\n",
              "       width=\"24px\">\n",
              "    <path d=\"M0 0h24v24H0V0z\" fill=\"none\"/>\n",
              "    <path d=\"M18.56 5.44l.94 2.06.94-2.06 2.06-.94-2.06-.94-.94-2.06-.94 2.06-2.06.94zm-11 1L8.5 8.5l.94-2.06 2.06-.94-2.06-.94L8.5 2.5l-.94 2.06-2.06.94zm10 10l.94 2.06.94-2.06 2.06-.94-2.06-.94-.94-2.06-.94 2.06-2.06.94z\"/><path d=\"M17.41 7.96l-1.37-1.37c-.4-.4-.92-.59-1.43-.59-.52 0-1.04.2-1.43.59L10.3 9.45l-7.72 7.72c-.78.78-.78 2.05 0 2.83L4 21.41c.39.39.9.59 1.41.59.51 0 1.02-.2 1.41-.59l7.78-7.78 2.81-2.81c.8-.78.8-2.07 0-2.86zM5.41 20L4 18.59l7.72-7.72 1.47 1.35L5.41 20z\"/>\n",
              "  </svg>\n",
              "      </button>\n",
              "      \n",
              "  <style>\n",
              "    .colab-df-container {\n",
              "      display:flex;\n",
              "      flex-wrap:wrap;\n",
              "      gap: 12px;\n",
              "    }\n",
              "\n",
              "    .colab-df-convert {\n",
              "      background-color: #E8F0FE;\n",
              "      border: none;\n",
              "      border-radius: 50%;\n",
              "      cursor: pointer;\n",
              "      display: none;\n",
              "      fill: #1967D2;\n",
              "      height: 32px;\n",
              "      padding: 0 0 0 0;\n",
              "      width: 32px;\n",
              "    }\n",
              "\n",
              "    .colab-df-convert:hover {\n",
              "      background-color: #E2EBFA;\n",
              "      box-shadow: 0px 1px 2px rgba(60, 64, 67, 0.3), 0px 1px 3px 1px rgba(60, 64, 67, 0.15);\n",
              "      fill: #174EA6;\n",
              "    }\n",
              "\n",
              "    [theme=dark] .colab-df-convert {\n",
              "      background-color: #3B4455;\n",
              "      fill: #D2E3FC;\n",
              "    }\n",
              "\n",
              "    [theme=dark] .colab-df-convert:hover {\n",
              "      background-color: #434B5C;\n",
              "      box-shadow: 0px 1px 3px 1px rgba(0, 0, 0, 0.15);\n",
              "      filter: drop-shadow(0px 1px 2px rgba(0, 0, 0, 0.3));\n",
              "      fill: #FFFFFF;\n",
              "    }\n",
              "  </style>\n",
              "\n",
              "      <script>\n",
              "        const buttonEl =\n",
              "          document.querySelector('#df-d0bf0b37-3f71-4f72-897c-333291f9714e button.colab-df-convert');\n",
              "        buttonEl.style.display =\n",
              "          google.colab.kernel.accessAllowed ? 'block' : 'none';\n",
              "\n",
              "        async function convertToInteractive(key) {\n",
              "          const element = document.querySelector('#df-d0bf0b37-3f71-4f72-897c-333291f9714e');\n",
              "          const dataTable =\n",
              "            await google.colab.kernel.invokeFunction('convertToInteractive',\n",
              "                                                     [key], {});\n",
              "          if (!dataTable) return;\n",
              "\n",
              "          const docLinkHtml = 'Like what you see? Visit the ' +\n",
              "            '<a target=\"_blank\" href=https://colab.research.google.com/notebooks/data_table.ipynb>data table notebook</a>'\n",
              "            + ' to learn more about interactive tables.';\n",
              "          element.innerHTML = '';\n",
              "          dataTable['output_type'] = 'display_data';\n",
              "          await google.colab.output.renderOutput(dataTable, element);\n",
              "          const docLink = document.createElement('div');\n",
              "          docLink.innerHTML = docLinkHtml;\n",
              "          element.appendChild(docLink);\n",
              "        }\n",
              "      </script>\n",
              "    </div>\n",
              "  </div>\n",
              "  "
            ]
          },
          "metadata": {},
          "execution_count": 45
        }
      ]
    },
    {
      "cell_type": "code",
      "source": [
        "accuracydf.sort_values(by= 'accuracy_score', ascending = False)\n",
        "\n",
        "# Best hyperparameters for the Decision Tree Model:\n",
        "\n",
        "accuracydf.iloc[13]"
      ],
      "metadata": {
        "colab": {
          "base_uri": "https://localhost:8080/"
        },
        "id": "mL6TVFbCz0GF",
        "outputId": "45b90fe9-d3f0-4234-cc04-b8254b2bc9c5"
      },
      "execution_count": 46,
      "outputs": [
        {
          "output_type": "execute_result",
          "data": {
            "text/plain": [
              "max_depth            4.000000\n",
              "max_leaf_nodes       8.000000\n",
              "min_samples_split    9.000000\n",
              "accuracy_score       0.732919\n",
              "Name: 13, dtype: float64"
            ]
          },
          "metadata": {},
          "execution_count": 46
        }
      ]
    },
    {
      "cell_type": "code",
      "source": [
        "# Best Decision Tree Model:\n",
        "\n",
        "BDT = DecisionTreeClassifier(max_leaf_nodes = 8, max_depth = 4, \n",
        "                             min_samples_split = 9, random_state = 42)\n",
        "\n",
        "BDT_pipe = make_pipeline(preprocessor, BDT)\n",
        "\n",
        "# Fitting the Data:\n",
        "\n",
        "BDT_pipe.fit(X_train, y_train)\n",
        "\n",
        "# Predicitons:\n",
        "\n",
        "BDT_train_pred = BDT_pipe.predict(X_train)\n",
        "BDT_test_pred = BDT_pipe.predict(X_test)\n",
        "\n",
        "# Model Score Evaluation:\n",
        "\n",
        "print('Best Decision Tree Model Training Scores')\n",
        "print(classification_report(y_train, BDT_train_pred))\n",
        "print('Best Decision Tree Model Test Scores')\n",
        "print(classification_report(y_test, BDT_test_pred))"
      ],
      "metadata": {
        "colab": {
          "base_uri": "https://localhost:8080/"
        },
        "id": "6abfg0W22TMt",
        "outputId": "844dd7a6-732f-4110-c009-631fcd621d00"
      },
      "execution_count": 47,
      "outputs": [
        {
          "output_type": "stream",
          "name": "stdout",
          "text": [
            "Best Decision Tree Model Training Scores\n",
            "              precision    recall  f1-score   support\n",
            "\n",
            "           0       0.82      0.76      0.79       278\n",
            "           1       0.70      0.77      0.73       203\n",
            "\n",
            "    accuracy                           0.77       481\n",
            "   macro avg       0.76      0.77      0.76       481\n",
            "weighted avg       0.77      0.77      0.77       481\n",
            "\n",
            "Best Decision Tree Model Test Scores\n",
            "              precision    recall  f1-score   support\n",
            "\n",
            "           0       0.77      0.76      0.77        93\n",
            "           1       0.68      0.69      0.69        68\n",
            "\n",
            "    accuracy                           0.73       161\n",
            "   macro avg       0.73      0.73      0.73       161\n",
            "weighted avg       0.73      0.73      0.73       161\n",
            "\n"
          ]
        }
      ]
    },
    {
      "cell_type": "code",
      "source": [
        "print('Confusion Matrix for Best Decision Tree Model\\n')\n",
        "\n",
        "ConfusionMatrixDisplay.from_predictions(y_test, BDT_test_pred);"
      ],
      "metadata": {
        "colab": {
          "base_uri": "https://localhost:8080/",
          "height": 315
        },
        "id": "djVN8tbQJICt",
        "outputId": "f6ec11b8-b16a-490e-e20c-c3bf3c8bc272"
      },
      "execution_count": 48,
      "outputs": [
        {
          "output_type": "stream",
          "name": "stdout",
          "text": [
            "Confusion Matrix for Best Decision Tree Model\n",
            "\n"
          ]
        },
        {
          "output_type": "display_data",
          "data": {
            "text/plain": [
              "<Figure size 432x288 with 2 Axes>"
            ],
            "image/png": "[encoded data removed]"
          },
          "metadata": {
            "needs_background": "light"
          }
        }
      ]
    },
    {
      "cell_type": "markdown",
      "source": [
        "True Positives: 47\n",
        "\n",
        "True Negatives: 71\n",
        "\n",
        "False Positives: 22\n",
        "\n",
        "False Negatives: 21"
      ],
      "metadata": {
        "id": "3J04e8rVJTSH"
      }
    },
    {
      "cell_type": "markdown",
      "source": [
        "### **SECOND MODEL: K NEAREST NEIGHBORS CLASSIFIER**"
      ],
      "metadata": {
        "id": "lqw2m3Pa6viv"
      }
    },
    {
      "cell_type": "code",
      "source": [
        "from sklearn.neighbors import KNeighborsClassifier\n",
        "\n",
        "# Default Nearest Neighbor Model:\n",
        "\n",
        "# Preporcessor and Model addition to pipeline:\n",
        "\n",
        "KN = KNeighborsClassifier()\n",
        "\n",
        "KN_pipe = make_pipeline(preprocessor, KN)\n",
        "\n",
        "# Fitting the Data:\n",
        "\n",
        "KN_pipe.fit(X_train, y_train)\n",
        "\n",
        "# Predictions: \n",
        "\n",
        "KN_train_pred = KN_pipe.predict(X_train)\n",
        "KN_test_pred = KN_pipe.predict(X_test)\n",
        "\n",
        "# Model Evaluation:\n",
        "\n",
        "print('Default Nearest Neighbor Training Scores')\n",
        "print(classification_report(y_train, KN_train_pred))\n",
        "print('Default Nearest Neighbor Test Scores')\n",
        "print(classification_report(y_test, KN_test_pred))"
      ],
      "metadata": {
        "colab": {
          "base_uri": "https://localhost:8080/"
        },
        "id": "LQDCiPX06pjC",
        "outputId": "a7620406-9daf-463f-a3f2-16fe310b17b9"
      },
      "execution_count": 49,
      "outputs": [
        {
          "output_type": "stream",
          "name": "stdout",
          "text": [
            "Default Nearest Neighbor Training Scores\n",
            "              precision    recall  f1-score   support\n",
            "\n",
            "           0       0.82      0.83      0.82       278\n",
            "           1       0.76      0.74      0.75       203\n",
            "\n",
            "    accuracy                           0.79       481\n",
            "   macro avg       0.79      0.79      0.79       481\n",
            "weighted avg       0.79      0.79      0.79       481\n",
            "\n",
            "Default Nearest Neighbor Test Scores\n",
            "              precision    recall  f1-score   support\n",
            "\n",
            "           0       0.70      0.72      0.71        93\n",
            "           1       0.60      0.57      0.59        68\n",
            "\n",
            "    accuracy                           0.66       161\n",
            "   macro avg       0.65      0.65      0.65       161\n",
            "weighted avg       0.66      0.66      0.66       161\n",
            "\n"
          ]
        }
      ]
    },
    {
      "cell_type": "code",
      "source": [
        "print('Confusion Matrix for Default Nearest Neighbors Model\\n')\n",
        "\n",
        "ConfusionMatrixDisplay.from_predictions(y_test, KN_test_pred);"
      ],
      "metadata": {
        "colab": {
          "base_uri": "https://localhost:8080/",
          "height": 315
        },
        "id": "0hiOcIjsM_aA",
        "outputId": "1c977005-ae88-4be3-9da9-1fb9bf3268dd"
      },
      "execution_count": 50,
      "outputs": [
        {
          "output_type": "stream",
          "name": "stdout",
          "text": [
            "Confusion Matrix for Default Nearest Neighbors Model\n",
            "\n"
          ]
        },
        {
          "output_type": "display_data",
          "data": {
            "text/plain": [
              "<Figure size 432x288 with 2 Axes>"
            ],
            "image/png": "[encoded data removed]"
          },
          "metadata": {
            "needs_background": "light"
          }
        }
      ]
    },
    {
      "cell_type": "markdown",
      "source": [
        "True Positives: 39\n",
        "\n",
        "True Negatives: 67\n",
        "\n",
        "False Positives: 26\n",
        "\n",
        "False Negatives: 29"
      ],
      "metadata": {
        "id": "0l5T_BiYNGUY"
      }
    },
    {
      "cell_type": "code",
      "source": [
        "KN.get_params()"
      ],
      "metadata": {
        "colab": {
          "base_uri": "https://localhost:8080/"
        },
        "id": "AQ27r1lN-SvL",
        "outputId": "987d2bf7-b274-49a3-d4d4-100ab80b8b2d"
      },
      "execution_count": 51,
      "outputs": [
        {
          "output_type": "execute_result",
          "data": {
            "text/plain": [
              "{'algorithm': 'auto',\n",
              " 'leaf_size': 30,\n",
              " 'metric': 'minkowski',\n",
              " 'metric_params': None,\n",
              " 'n_jobs': None,\n",
              " 'n_neighbors': 5,\n",
              " 'p': 2,\n",
              " 'weights': 'uniform'}"
            ]
          },
          "metadata": {},
          "execution_count": 51
        }
      ]
    },
    {
      "cell_type": "code",
      "source": [
        "# Second Nearest Neighbor Model:\n",
        "\n",
        "# Preporcessor and Model addition to pipeline:\n",
        "\n",
        "KN2 = KNeighborsClassifier(leaf_size = 20, n_jobs= 5, n_neighbors= 3, weights = 'distance')\n",
        "\n",
        "KN2_pipe = make_pipeline(preprocessor, KN2)\n",
        "\n",
        "# Fitting the Data:\n",
        "\n",
        "KN2_pipe.fit(X_train, y_train)\n",
        "\n",
        "# Predictions: \n",
        "\n",
        "KN2_train_pred = KN2_pipe.predict(X_train)\n",
        "KN2_test_pred = KN2_pipe.predict(X_test)\n",
        "\n",
        "# Model Evaluation:\n",
        "\n",
        "print('Second Nearest Neighbor Training Scores')\n",
        "print(classification_report(y_train, KN2_train_pred))\n",
        "print('Second Nearest Neighbor Test Scores')\n",
        "print(classification_report(y_test, KN2_test_pred))"
      ],
      "metadata": {
        "colab": {
          "base_uri": "https://localhost:8080/"
        },
        "id": "0y_a7eb7-Uue",
        "outputId": "24b9da0a-9f77-473f-80a1-10d6dc8e0e11"
      },
      "execution_count": 52,
      "outputs": [
        {
          "output_type": "stream",
          "name": "stdout",
          "text": [
            "Second Nearest Neighbor Training Scores\n",
            "              precision    recall  f1-score   support\n",
            "\n",
            "           0       1.00      1.00      1.00       278\n",
            "           1       1.00      1.00      1.00       203\n",
            "\n",
            "    accuracy                           1.00       481\n",
            "   macro avg       1.00      1.00      1.00       481\n",
            "weighted avg       1.00      1.00      1.00       481\n",
            "\n",
            "Second Nearest Neighbor Test Scores\n",
            "              precision    recall  f1-score   support\n",
            "\n",
            "           0       0.71      0.72      0.72        93\n",
            "           1       0.61      0.60      0.61        68\n",
            "\n",
            "    accuracy                           0.67       161\n",
            "   macro avg       0.66      0.66      0.66       161\n",
            "weighted avg       0.67      0.67      0.67       161\n",
            "\n"
          ]
        }
      ]
    },
    {
      "cell_type": "code",
      "source": [
        "print('Confusion Matrix for Second Nearest Neighbors Model\\n')\n",
        "\n",
        "ConfusionMatrixDisplay.from_predictions(y_test, KN2_test_pred);"
      ],
      "metadata": {
        "colab": {
          "base_uri": "https://localhost:8080/",
          "height": 315
        },
        "id": "YqnOYzpdMkZf",
        "outputId": "8fa6c343-d2ee-4c1a-f7a3-736c9101d605"
      },
      "execution_count": 53,
      "outputs": [
        {
          "output_type": "stream",
          "name": "stdout",
          "text": [
            "Confusion Matrix for Second Nearest Neighbors Model\n",
            "\n"
          ]
        },
        {
          "output_type": "display_data",
          "data": {
            "text/plain": [
              "<Figure size 432x288 with 2 Axes>"
            ],
            "image/png": "[encoded data removed]"
          },
          "metadata": {
            "needs_background": "light"
          }
        }
      ]
    },
    {
      "cell_type": "markdown",
      "source": [
        "True Positives: 41\n",
        "\n",
        "True Negatives: 67\n",
        "\n",
        "False Positives: 26\n",
        "\n",
        "False Negatives: 27"
      ],
      "metadata": {
        "id": "Lui_FDNQMrZg"
      }
    },
    {
      "cell_type": "code",
      "source": [
        "KN2.get_params()"
      ],
      "metadata": {
        "colab": {
          "base_uri": "https://localhost:8080/"
        },
        "id": "P1ijXqsnGSIW",
        "outputId": "dd2d1ee1-54d6-4950-f867-aec7a84aa5ee"
      },
      "execution_count": 54,
      "outputs": [
        {
          "output_type": "execute_result",
          "data": {
            "text/plain": [
              "{'algorithm': 'auto',\n",
              " 'leaf_size': 20,\n",
              " 'metric': 'minkowski',\n",
              " 'metric_params': None,\n",
              " 'n_jobs': 5,\n",
              " 'n_neighbors': 3,\n",
              " 'p': 2,\n",
              " 'weights': 'distance'}"
            ]
          },
          "metadata": {},
          "execution_count": 54
        }
      ]
    },
    {
      "cell_type": "code",
      "source": [
        "# Best Nearest Neighbor Model via GridSearch Cross Validation:\n",
        "\n",
        "# Creating parameter dictionary:\n",
        "\n",
        "parameters = {'kneighborsclassifier__n_neighbors': range(1,5), \n",
        "              'kneighborsclassifier__n_jobs' : range(1,5), \n",
        "              'kneighborsclassifier__p' : range(1,3),\n",
        "              'kneighborsclassifier__weights':['uniform','distance']}\n",
        "                                              \n",
        "# Model Insatiation, pipeline creation and fit using GridSearchCV:       \n",
        "KN_pipe_best = make_pipeline(preprocessor, KN)  \n",
        "\n",
        "KN_grid = GridSearchCV(KN_pipe_best, parameters, cv = 2)\n",
        "\n",
        "# Fit:\n",
        "\n",
        "KN_grid.fit(X_train, y_train)\n",
        "\n",
        "# Optimal combination of hyperparameters:\n",
        "\n",
        "KN_grid.best_params_"
      ],
      "metadata": {
        "colab": {
          "base_uri": "https://localhost:8080/"
        },
        "id": "-zrmqyQWFsOs",
        "outputId": "741024d2-dfdc-4c16-9dde-66c8b732aa35"
      },
      "execution_count": 55,
      "outputs": [
        {
          "output_type": "execute_result",
          "data": {
            "text/plain": [
              "{'kneighborsclassifier__n_jobs': 1,\n",
              " 'kneighborsclassifier__n_neighbors': 4,\n",
              " 'kneighborsclassifier__p': 1,\n",
              " 'kneighborsclassifier__weights': 'distance'}"
            ]
          },
          "metadata": {},
          "execution_count": 55
        }
      ]
    },
    {
      "cell_type": "code",
      "source": [
        "BKN = KN_grid.best_estimator_\n"
      ],
      "metadata": {
        "id": "nox22B4XIZsI"
      },
      "execution_count": 56,
      "outputs": []
    },
    {
      "cell_type": "code",
      "source": [
        "# Training and Test predictions:\n",
        "\n",
        "BKN_train_pred = BKN.predict(X_train)\n",
        "BKN_test_pred = BKN.predict(X_test)\n",
        "\n",
        "# Model Evaluation:\n",
        "\n",
        "print('Best Nearest Neighbor Training Scores')\n",
        "print(classification_report(y_train, BKN_train_pred))\n",
        "print('Best Nearest Neighbor Test Scores')\n",
        "print(classification_report(y_test, BKN_test_pred))"
      ],
      "metadata": {
        "colab": {
          "base_uri": "https://localhost:8080/"
        },
        "id": "O8I-b53qHHZ5",
        "outputId": "4b4c7e82-3413-4a34-cd04-3cf9f5362301"
      },
      "execution_count": 57,
      "outputs": [
        {
          "output_type": "stream",
          "name": "stdout",
          "text": [
            "Best Nearest Neighbor Training Scores\n",
            "              precision    recall  f1-score   support\n",
            "\n",
            "           0       1.00      1.00      1.00       278\n",
            "           1       1.00      1.00      1.00       203\n",
            "\n",
            "    accuracy                           1.00       481\n",
            "   macro avg       1.00      1.00      1.00       481\n",
            "weighted avg       1.00      1.00      1.00       481\n",
            "\n",
            "Best Nearest Neighbor Test Scores\n",
            "              precision    recall  f1-score   support\n",
            "\n",
            "           0       0.72      0.77      0.75        93\n",
            "           1       0.66      0.59      0.62        68\n",
            "\n",
            "    accuracy                           0.70       161\n",
            "   macro avg       0.69      0.68      0.68       161\n",
            "weighted avg       0.69      0.70      0.69       161\n",
            "\n"
          ]
        }
      ]
    },
    {
      "cell_type": "code",
      "source": [
        "print('Confusion Matrix for Best K Nearest Neighbors Model\\n')\n",
        "\n",
        "ConfusionMatrixDisplay.from_predictions(y_test, BKN_test_pred);"
      ],
      "metadata": {
        "colab": {
          "base_uri": "https://localhost:8080/",
          "height": 315
        },
        "id": "81WC3G6tHLT_",
        "outputId": "17ea1003-0611-4f8e-af7e-f10a616a9def"
      },
      "execution_count": 58,
      "outputs": [
        {
          "output_type": "stream",
          "name": "stdout",
          "text": [
            "Confusion Matrix for Best K Nearest Neighbors Model\n",
            "\n"
          ]
        },
        {
          "output_type": "display_data",
          "data": {
            "text/plain": [
              "<Figure size 432x288 with 2 Axes>"
            ],
            "image/png": "[encoded data removed]"
          },
          "metadata": {
            "needs_background": "light"
          }
        }
      ]
    },
    {
      "cell_type": "markdown",
      "source": [
        "True Positives: 40\n",
        "\n",
        "True Negatives: 72\n",
        "\n",
        "False Positives: 21\n",
        "\n",
        "False Negatives: 28"
      ],
      "metadata": {
        "id": "KOo1quaLJ3Gb"
      }
    },
    {
      "cell_type": "markdown",
      "source": [
        "## **FINAL MODEL CHOICE:**\n",
        "\n",
        "Best Decision Tree Model. Our goal is to predict whether a patient has (1) or does not (0) have Diabetes. We are looking for a model that will minimize false negatives or type II errors as they would be detrimental to the patient's health. A test result that indicates that a patient does not have Diabetes when they actually do would cause a tremendous amount of health and financial related issues for the patient and their family, as well as competency concerns and legal issues for the doctor / hospital conducting the diagnosis. A foucs on minimizing false negatives and finding the true positives put recall at the fore front of the selection criteria. The Best Decision Tree's test model has the lowest number of False Negatives the highest accuracy, with a 57.8% / 42.2% class split, and the highest recall score for the positive class. It is the best model for this instance.\n",
        "\n",
        "Best Decision Tree Model:\n",
        "\n",
        "True Positives: 47\n",
        "\n",
        "True Negatives: 71\n",
        "\n",
        "False Positives: 22\n",
        "\n",
        "False Negatives: 21\n"
      ],
      "metadata": {
        "id": "n2v4IgljKOx4"
      }
    },
    {
      "cell_type": "code",
      "source": [
        "print('Confusion Matrix for Best Decision Tree Model\\n')\n",
        "\n",
        "ConfusionMatrixDisplay.from_predictions(y_test, BDT_test_pred);"
      ],
      "metadata": {
        "colab": {
          "base_uri": "https://localhost:8080/",
          "height": 315
        },
        "id": "CxQQx5uXyRlV",
        "outputId": "5a2c4cf4-76f3-481c-f710-ec5052707acd"
      },
      "execution_count": 59,
      "outputs": [
        {
          "output_type": "stream",
          "name": "stdout",
          "text": [
            "Confusion Matrix for Best Decision Tree Model\n",
            "\n"
          ]
        },
        {
          "output_type": "display_data",
          "data": {
            "text/plain": [
              "<Figure size 432x288 with 2 Axes>"
            ],
            "image/png": "[encoded data removed]"
          },
          "metadata": {
            "needs_background": "light"
          }
        }
      ]
    }
  ]
}