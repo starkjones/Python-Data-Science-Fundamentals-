{
  "nbformat": 4,
  "nbformat_minor": 0,
  "metadata": {
    "colab": {
      "name": "Calculating Mortgage Payment.ipynb",
      "provenance": [],
      "collapsed_sections": []
    },
    "kernelspec": {
      "name": "python3",
      "display_name": "Python 3"
    },
    "language_info": {
      "name": "python"
    }
  },
  "cells": [
    {
      "cell_type": "markdown",
      "source": [
        "# Calculating Mortgage Payment Exercise\n",
        "Week 1 Python for Data Science\n",
        "\n",
        "Jonathan Jones"
      ],
      "metadata": {
        "id": "hW7ux0dNS-xx"
      }
    },
    {
      "cell_type": "code",
      "source": [
        "# 1) Term = 30 Years -> 360 months \n",
        "# Principal  = 400,000.00\n",
        "# APR = 3% -> 0.03\n",
        "\n",
        "# How much would the monthly payment be for the above?\n",
        "\n",
        "P = 400000.00\n",
        "n = 360.00\n",
        "APR = 0.03\n",
        "r = APR/12.00\n",
        "\n",
        "EMI = P*((r*(1+r)**n)/(((1+r)**n)-1))\n",
        "EMIrounded = round(EMI,ndigits = 2)\n",
        "\n",
        "print(EMIrounded)\n"
      ],
      "metadata": {
        "colab": {
          "base_uri": "https://localhost:8080/"
        },
        "id": "ixYReuvsTa6r",
        "outputId": "0f82440f-04d0-49c3-d075-23e304d56484"
      },
      "execution_count": null,
      "outputs": [
        {
          "output_type": "stream",
          "name": "stdout",
          "text": [
            "1686.42\n"
          ]
        }
      ]
    }
  ]
}